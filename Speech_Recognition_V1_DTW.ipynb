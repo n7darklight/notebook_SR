{
  "nbformat": 4,
  "nbformat_minor": 0,
  "metadata": {
    "colab": {
      "name": "Speech Recognition V1 - DTW.ipynb",
      "provenance": [],
      "collapsed_sections": [
        "lxAKb2ORcF5j",
        "reayM8Ise5xL",
        "Y5dP1IPxcZDw",
        "J6ru94VSWXGq",
        "Oi7nNG-E8bpP"
      ],
      "authorship_tag": "ABX9TyMdGUkzD9ncrpBXp8Je5Vfa",
      "include_colab_link": true
    },
    "kernelspec": {
      "name": "python3",
      "display_name": "Python 3"
    },
    "language_info": {
      "name": "python"
    }
  },
  "cells": [
    {
      "cell_type": "markdown",
      "metadata": {
        "id": "view-in-github",
        "colab_type": "text"
      },
      "source": [
        "<a href=\"https://colab.research.google.com/github/n7darklight/notebook_SR/blob/main/Speech_Recognition_V1_DTW.ipynb\" target=\"_parent\"><img src=\"https://colab.research.google.com/assets/colab-badge.svg\" alt=\"Open In Colab\"/></a>"
      ]
    },
    {
      "cell_type": "markdown",
      "source": [
        "# Data Loading"
      ],
      "metadata": {
        "id": "K7HF2fdDxULr"
      }
    },
    {
      "cell_type": "code",
      "metadata": {
        "id": "WOlwa9UTO0DX",
        "colab": {
          "base_uri": "https://localhost:8080/"
        },
        "outputId": "b8bd5e25-0dab-4c69-8a97-61585174aa60"
      },
      "source": [
        "from google.colab import drive\n",
        "drive.mount('/content/drive')"
      ],
      "execution_count": 2,
      "outputs": [
        {
          "output_type": "stream",
          "name": "stdout",
          "text": [
            "Mounted at /content/drive\n"
          ]
        }
      ]
    },
    {
      "cell_type": "code",
      "metadata": {
        "id": "FFVlSJNUBAFC"
      },
      "source": [
        "f_out = '/content/drive/MyDrive/Sound Data/Fixed/Cewe/Splitted'\n",
        "m_out = '/content/drive/MyDrive/Sound Data/Fixed/Cowo/Splitted'\n",
        "baru = '/content/drive/MyDrive/Sound Data/Fixed/Baru'\n",
        "test_data = '/content/drive/MyDrive/Sound Data/test'"
      ],
      "execution_count": 3,
      "outputs": []
    },
    {
      "cell_type": "code",
      "metadata": {
        "colab": {
          "base_uri": "https://localhost:8080/"
        },
        "id": "LtWu1hxrBJYc",
        "outputId": "57de2f60-8237-426d-956d-7288cdae6bd9"
      },
      "source": [
        "import os\n",
        "\n",
        "label = os.listdir(f_out)\n",
        "print(label)"
      ],
      "execution_count": 4,
      "outputs": [
        {
          "output_type": "stream",
          "name": "stdout",
          "text": [
            "['Qoola', 'Kaana', 'Walaa', 'Bimaa', 'Bihaa', 'Tsaani', 'Idzaa', 'Fii', 'Bii', 'Qiila', 'Sabiila', 'Qoliila', 'Jamiia', 'Fiihi', 'Yaquulu', 'Rasuulu', 'Wujuuhu', 'Yadzuuqu', 'Quluubu', 'Dzunuubi']\n"
          ]
        }
      ]
    },
    {
      "cell_type": "code",
      "metadata": {
        "colab": {
          "base_uri": "https://localhost:8080/"
        },
        "id": "_7Bv5CbYwvLs",
        "outputId": "0eb74aef-a251-4db8-b425-6806a34d76a9"
      },
      "source": [
        "!pip install git+https://github.com/pierre-rouanet/dtw.git"
      ],
      "execution_count": 5,
      "outputs": [
        {
          "output_type": "stream",
          "name": "stdout",
          "text": [
            "Looking in indexes: https://pypi.org/simple, https://us-python.pkg.dev/colab-wheels/public/simple/\n",
            "Collecting git+https://github.com/pierre-rouanet/dtw.git\n",
            "  Cloning https://github.com/pierre-rouanet/dtw.git to /tmp/pip-req-build-jcxf7hxr\n",
            "  Running command git clone -q https://github.com/pierre-rouanet/dtw.git /tmp/pip-req-build-jcxf7hxr\n",
            "Requirement already satisfied: numpy in /usr/local/lib/python3.7/dist-packages (from dtw==1.4.0) (1.21.6)\n",
            "Requirement already satisfied: scipy in /usr/local/lib/python3.7/dist-packages (from dtw==1.4.0) (1.4.1)\n",
            "Building wheels for collected packages: dtw\n",
            "  Building wheel for dtw (setup.py) ... \u001b[?25l\u001b[?25hdone\n",
            "  Created wheel for dtw: filename=dtw-1.4.0-py3-none-any.whl size=18210 sha256=1e244f59bc5613500707cd56077168a2e69538a1fb97b6a0248a97cedb5e085d\n",
            "  Stored in directory: /tmp/pip-ephem-wheel-cache-774fx7b3/wheels/19/11/b6/fe1dda77acabebfd6a3bb268c2a0575eb9bec3930995a5bc9c\n",
            "Successfully built dtw\n",
            "Installing collected packages: dtw\n",
            "Successfully installed dtw-1.4.0\n"
          ]
        }
      ]
    },
    {
      "cell_type": "code",
      "metadata": {
        "colab": {
          "base_uri": "https://localhost:8080/"
        },
        "id": "DpP4AVQsxl0q",
        "outputId": "2e1d0cf4-c832-4dff-8a93-4f4ce7bc2cc4"
      },
      "source": [
        "file_count_per_class = len(os.listdir(os.path.join(f_out, label[0]))) + len(os.listdir(os.path.join(m_out, label[0])))\n",
        "print(file_count_per_class)"
      ],
      "execution_count": 6,
      "outputs": [
        {
          "output_type": "stream",
          "name": "stdout",
          "text": [
            "10\n"
          ]
        }
      ]
    },
    {
      "cell_type": "code",
      "metadata": {
        "id": "XQ3q5yimxHW1"
      },
      "source": [
        "import librosa\n",
        "import IPython.display\n",
        "from IPython.display import Image\n",
        "import numpy as np\n",
        "\n",
        "from dtw import dtw\n",
        "from scipy.spatial.distance import cdist\n",
        "\n",
        "import seaborn as sns\n",
        "import matplotlib.pyplot as plt\n",
        "%matplotlib inline"
      ],
      "execution_count": 7,
      "outputs": []
    },
    {
      "cell_type": "code",
      "metadata": {
        "colab": {
          "base_uri": "https://localhost:8080/",
          "height": 309
        },
        "id": "yRJQcJHRxJbx",
        "outputId": "97096b68-d352-475f-d73f-7cc31830859e"
      },
      "source": [
        "y, sr = librosa.load(os.path.join(os.path.join(f_out, label[0]), '1_Qoola.wav'))\n",
        "plt.plot(y)\n",
        "IPython.display.Audio(data=y, rate=sr)"
      ],
      "execution_count": 8,
      "outputs": [
        {
          "output_type": "execute_result",
          "data": {
            "text/plain": [
              "<IPython.lib.display.Audio object>"
            ],
            "text/html": [
              "\n",
              "                <audio controls=\"controls\" >\n",
              "                    <source src=\"data:audio/wav;base64,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\" type=\"audio/wav\" />\n",
              "                    Your browser does not support the audio element.\n",
              "                </audio>\n",
              "              "
            ]
          },
          "metadata": {},
          "execution_count": 8
        },
        {
          "output_type": "display_data",
          "data": {
            "text/plain": [
              "<Figure size 432x288 with 1 Axes>"
            ],
            "image/png": "[encoded data removed]"
          },
          "metadata": {
            "needs_background": "light"
          }
        }
      ]
    },
    {
      "cell_type": "code",
      "metadata": {
        "colab": {
          "base_uri": "https://localhost:8080/",
          "height": 282
        },
        "id": "cMa-y8_tx-p3",
        "outputId": "95b879f7-192d-44b4-e80a-780a8e6d6977"
      },
      "source": [
        "mfcc = librosa.feature.mfcc(y=y, sr=sr)\n",
        "mfcc_delta = librosa.feature.delta(mfcc)\n",
        "sns.heatmap(mfcc_delta)"
      ],
      "execution_count": 9,
      "outputs": [
        {
          "output_type": "execute_result",
          "data": {
            "text/plain": [
              "<matplotlib.axes._subplots.AxesSubplot at 0x7f6f0a4c1dd0>"
            ]
          },
          "metadata": {},
          "execution_count": 9
        },
        {
          "output_type": "display_data",
          "data": {
            "text/plain": [
              "<Figure size 432x288 with 2 Axes>"
            ],
            "image/png": "[encoded data removed]"
          },
          "metadata": {
            "needs_background": "light"
          }
        }
      ]
    },
    {
      "cell_type": "code",
      "metadata": {
        "colab": {
          "base_uri": "https://localhost:8080/"
        },
        "id": "ysinu6WjaDic",
        "outputId": "f6dcad1b-45ba-4ee5-9489-7bb893730ed9"
      },
      "source": [
        "mfcc.T.shape"
      ],
      "execution_count": 10,
      "outputs": [
        {
          "output_type": "execute_result",
          "data": {
            "text/plain": [
              "(54, 20)"
            ]
          },
          "metadata": {},
          "execution_count": 10
        }
      ]
    },
    {
      "cell_type": "code",
      "metadata": {
        "colab": {
          "base_uri": "https://localhost:8080/"
        },
        "id": "gJEuwdUppc8W",
        "outputId": "d829bb55-7480-4c81-d234-5d96371c8f8f"
      },
      "source": [
        "!pip install pynormalize"
      ],
      "execution_count": 11,
      "outputs": [
        {
          "output_type": "stream",
          "name": "stdout",
          "text": [
            "Looking in indexes: https://pypi.org/simple, https://us-python.pkg.dev/colab-wheels/public/simple/\n",
            "Collecting pynormalize\n",
            "  Downloading pynormalize-0.1.4-py2.py3-none-any.whl (6.5 kB)\n",
            "Collecting pydub>=0.21.0\n",
            "  Downloading pydub-0.25.1-py2.py3-none-any.whl (32 kB)\n",
            "Collecting mutagen>=1.40.0\n",
            "  Downloading mutagen-1.45.1-py3-none-any.whl (218 kB)\n",
            "\u001b[K     |████████████████████████████████| 218 kB 8.3 MB/s \n",
            "\u001b[?25hInstalling collected packages: pydub, mutagen, pynormalize\n",
            "Successfully installed mutagen-1.45.1 pydub-0.25.1 pynormalize-0.1.4\n"
          ]
        }
      ]
    },
    {
      "cell_type": "markdown",
      "metadata": {
        "id": "I8JmbZocD8C0"
      },
      "source": [
        "# Feature Extraction With MFCC and DTW"
      ]
    },
    {
      "cell_type": "markdown",
      "metadata": {
        "id": "lxAKb2ORcF5j"
      },
      "source": [
        "## Normalizing all audio files into -20 dbfs"
      ]
    },
    {
      "cell_type": "code",
      "metadata": {
        "colab": {
          "base_uri": "https://localhost:8080/"
        },
        "id": "6Jm8oxxLAwme",
        "outputId": "f4700405-b424-490f-d16b-8e4dd10f1940"
      },
      "source": [
        "import pynormalize\n",
        "\n",
        "target_dbfs = -20\n",
        "\n",
        "for class_index, subfolder in enumerate(label):\n",
        "  for audio in os.listdir(os.path.join(f_out, subfolder)):\n",
        "    file = os.path.join(os.path.join(f_out, subfolder), audio)\n",
        "    pynormalize.process_files([file], target_dbfs=target_dbfs, directory='NORMALIZED CE')\n",
        "\n",
        "for class_index, subfolder in enumerate(label):\n",
        "  for audio in os.listdir(os.path.join(m_out, subfolder)):\n",
        "    file = os.path.join(os.path.join(m_out, subfolder), audio)\n",
        "    pynormalize.process_files([file], target_dbfs=target_dbfs, directory='NORMALIZED CO')"
      ],
      "execution_count": null,
      "outputs": [
        {
          "output_type": "stream",
          "name": "stderr",
          "text": [
            "(1 of 1) Processing file : \"1_Qoola.wav\"\n",
            "(1 of 1) Processing file : \"2_Qoola.wav\"\n",
            "(1 of 1) Processing file : \"3_Qoola.wav\"\n",
            "(1 of 1) Processing file : \"4_Qoola.wav\"\n",
            "(1 of 1) Processing file : \"5_Qoola.wav\"\n",
            "(1 of 1) Processing file : \"1_Kaana.wav\"\n",
            "(1 of 1) Processing file : \"2_Kaana.wav\"\n",
            "(1 of 1) Processing file : \"3_Kaana.wav\"\n",
            "(1 of 1) Processing file : \"4_Kaana.wav\"\n",
            "(1 of 1) Processing file : \"5_Kaana.wav\"\n",
            "(1 of 1) Processing file : \"1_Walaa.wav\"\n",
            "(1 of 1) Processing file : \"2_Walaa.wav\"\n",
            "(1 of 1) Processing file : \"3_Walaa.wav\"\n",
            "(1 of 1) Processing file : \"4_Walaa.wav\"\n",
            "(1 of 1) Processing file : \"5_Walaa.wav\"\n",
            "(1 of 1) Processing file : \"1_Bimaa.wav\"\n",
            "(1 of 1) Processing file : \"2_Bimaa.wav\"\n",
            "(1 of 1) Processing file : \"3_Bimaa.wav\"\n",
            "(1 of 1) Processing file : \"4_Bimaa.wav\"\n",
            "(1 of 1) Processing file : \"5_Bimaa.wav\"\n",
            "(1 of 1) Processing file : \"1_Bihaa.wav\"\n",
            "(1 of 1) Processing file : \"2_Bihaa.wav\"\n",
            "(1 of 1) Processing file : \"3_Bihaa.wav\"\n",
            "(1 of 1) Processing file : \"4_Bihaa.wav\"\n",
            "(1 of 1) Processing file : \"5_Bihaa.wav\"\n",
            "(1 of 1) Processing file : \"1_Tsaani.wav\"\n",
            "(1 of 1) Processing file : \"2_Tsaani.wav\"\n",
            "(1 of 1) Processing file : \"3_Tsaani.wav\"\n",
            "(1 of 1) Processing file : \"4_Tsaani.wav\"\n",
            "(1 of 1) Processing file : \"5_Tsaani.wav\"\n",
            "(1 of 1) Processing file : \"1_Idzaa.wav\"\n",
            "(1 of 1) Processing file : \"2_Idzaa.wav\"\n",
            "(1 of 1) Processing file : \"3_Idzaa.wav\"\n",
            "(1 of 1) Processing file : \"4_Idzaa.wav\"\n",
            "(1 of 1) Processing file : \"5_Idzaa.wav\"\n",
            "(1 of 1) Processing file : \"1_Fii.wav\"\n",
            "(1 of 1) Processing file : \"1_Fiihi.wav\"\n",
            "(1 of 1) Processing file : \"2_Fii.wav\"\n",
            "(1 of 1) Processing file : \"2_Fiihi.wav\"\n",
            "(1 of 1) Processing file : \"3_Fii.wav\"\n",
            "(1 of 1) Processing file : \"3_Fiihi.wav\"\n",
            "(1 of 1) Processing file : \"4_Fii.wav\"\n",
            "(1 of 1) Processing file : \"4_Fiihi.wav\"\n",
            "(1 of 1) Processing file : \"5_Fii.wav\"\n",
            "(1 of 1) Processing file : \"5_Fiihi.wav\"\n",
            "(1 of 1) Processing file : \"1_Bii.wav\"\n",
            "(1 of 1) Processing file : \"2_Bii.wav\"\n",
            "(1 of 1) Processing file : \"3_Bii.wav\"\n",
            "(1 of 1) Processing file : \"4_Bii.wav\"\n",
            "(1 of 1) Processing file : \"5_Bii.wav\"\n",
            "(1 of 1) Processing file : \"1_Qiila.wav\"\n",
            "(1 of 1) Processing file : \"2_Qiila.wav\"\n",
            "(1 of 1) Processing file : \"3_Qiila.wav\"\n",
            "(1 of 1) Processing file : \"4_Qiila.wav\"\n",
            "(1 of 1) Processing file : \"5_Qiila.wav\"\n",
            "(1 of 1) Processing file : \"1_Sabiila.wav\"\n",
            "(1 of 1) Processing file : \"2_Sabiila.wav\"\n",
            "(1 of 1) Processing file : \"3_Sabiila.wav\"\n",
            "(1 of 1) Processing file : \"4_Sabiila.wav\"\n",
            "(1 of 1) Processing file : \"5_Sabiila.wav\"\n",
            "(1 of 1) Processing file : \"1_Qoliila.wav\"\n",
            "(1 of 1) Processing file : \"2_Qoliila.wav\"\n",
            "(1 of 1) Processing file : \"3_Qoliila.wav\"\n",
            "(1 of 1) Processing file : \"4_Qoliila.wav\"\n",
            "(1 of 1) Processing file : \"5_Qoliila.wav\"\n",
            "(1 of 1) Processing file : \"1_Jamiia.wav\"\n",
            "(1 of 1) Processing file : \"2_Jamiia.wav\"\n",
            "(1 of 1) Processing file : \"3_Jamiia.wav\"\n",
            "(1 of 1) Processing file : \"4_Jamiia.wav\"\n",
            "(1 of 1) Processing file : \"5_Jamiia.wav\"\n",
            "(1 of 1) Processing file : \"1_Yaquulu.wav\"\n",
            "(1 of 1) Processing file : \"2_Yaquulu.wav\"\n",
            "(1 of 1) Processing file : \"3_Yaquulu.wav\"\n",
            "(1 of 1) Processing file : \"4_Yaquulu.wav\"\n",
            "(1 of 1) Processing file : \"5_Yaquulu.wav\"\n",
            "(1 of 1) Processing file : \"1_Rasuulu.wav\"\n",
            "(1 of 1) Processing file : \"2_Rasuulu.wav\"\n",
            "(1 of 1) Processing file : \"3_Rasuulu.wav\"\n",
            "(1 of 1) Processing file : \"4_Rasuulu.wav\"\n",
            "(1 of 1) Processing file : \"5_Rasuulu.wav\"\n",
            "(1 of 1) Processing file : \"1_Wujuuhu.wav\"\n",
            "(1 of 1) Processing file : \"2_Wujuuhu.wav\"\n",
            "(1 of 1) Processing file : \"3_Wujuuhu.wav\"\n",
            "(1 of 1) Processing file : \"4_Wujuuhu.wav\"\n",
            "(1 of 1) Processing file : \"5_Wujuuhu.wav\"\n",
            "(1 of 1) Processing file : \"1_Yadzuuqu.wav\"\n",
            "(1 of 1) Processing file : \"2_Yadzuuqu.wav\"\n",
            "(1 of 1) Processing file : \"3_Yadzuuqu.wav\"\n",
            "(1 of 1) Processing file : \"4_Yadzuuqu.wav\"\n",
            "(1 of 1) Processing file : \"5_Yadzuuqu.wav\"\n",
            "(1 of 1) Processing file : \"1_Quluubu.wav\"\n",
            "(1 of 1) Processing file : \"2_Quluubu.wav\"\n",
            "(1 of 1) Processing file : \"3_Quluubu.wav\"\n",
            "(1 of 1) Processing file : \"4_Quluubu.wav\"\n",
            "(1 of 1) Processing file : \"5_Quluubu.wav\"\n",
            "(1 of 1) Processing file : \"1_Dzunuubi.wav\"\n",
            "(1 of 1) Processing file : \"2_Dzunuubi.wav\"\n",
            "(1 of 1) Processing file : \"3_Dzunuubi.wav\"\n",
            "(1 of 1) Processing file : \"4_Dzunuubi.wav\"\n",
            "(1 of 1) Processing file : \"5_Dzunuubi.wav\"\n",
            "(1 of 1) Processing file : \"1_Qoola.wav\"\n",
            "(1 of 1) Processing file : \"2_Qoola.wav\"\n",
            "(1 of 1) Processing file : \"3_Qoola.wav\"\n",
            "(1 of 1) Processing file : \"4_Qoola.wav\"\n",
            "(1 of 1) Processing file : \"5_Qoola.wav\"\n",
            "(1 of 1) Processing file : \"1_Kaana.wav\"\n",
            "(1 of 1) Processing file : \"2_Kaana.wav\"\n",
            "(1 of 1) Processing file : \"3_Kaana.wav\"\n",
            "(1 of 1) Processing file : \"4_Kaana.wav\"\n",
            "(1 of 1) Processing file : \"5_Kaana.wav\"\n",
            "(1 of 1) Processing file : \"1_Walaa.wav\"\n",
            "(1 of 1) Processing file : \"2_Walaa.wav\"\n",
            "(1 of 1) Processing file : \"3_Walaa.wav\"\n",
            "(1 of 1) Processing file : \"4_Walaa.wav\"\n",
            "(1 of 1) Processing file : \"5_Walaa.wav\"\n",
            "(1 of 1) Processing file : \"1_Bimaa.wav\"\n",
            "(1 of 1) Processing file : \"2_Bimaa.wav\"\n",
            "(1 of 1) Processing file : \"3_Bimaa.wav\"\n",
            "(1 of 1) Processing file : \"4_Bimaa.wav\"\n",
            "(1 of 1) Processing file : \"5_Bimaa.wav\"\n",
            "(1 of 1) Processing file : \"1_Bihaa.wav\"\n",
            "(1 of 1) Processing file : \"2_Bihaa.wav\"\n",
            "(1 of 1) Processing file : \"3_Bihaa.wav\"\n",
            "(1 of 1) Processing file : \"4_Bihaa.wav\"\n",
            "(1 of 1) Processing file : \"5_Bihaa.wav\"\n",
            "(1 of 1) Processing file : \"1_Tsaani.wav\"\n",
            "(1 of 1) Processing file : \"2_Tsaani.wav\"\n",
            "(1 of 1) Processing file : \"3_Tsaani.wav\"\n",
            "(1 of 1) Processing file : \"4_Tsaani.wav\"\n",
            "(1 of 1) Processing file : \"5_Tsaani.wav\"\n",
            "(1 of 1) Processing file : \"1_Idzaa.wav\"\n",
            "(1 of 1) Processing file : \"2_Idzaa.wav\"\n",
            "(1 of 1) Processing file : \"3_Idzaa.wav\"\n",
            "(1 of 1) Processing file : \"4_Idzaa.wav\"\n",
            "(1 of 1) Processing file : \"5_Idzaa.wav\"\n",
            "(1 of 1) Processing file : \"1_Fii.wav\"\n",
            "(1 of 1) Processing file : \"1_Fiihi.wav\"\n",
            "(1 of 1) Processing file : \"2_Fii.wav\"\n",
            "(1 of 1) Processing file : \"2_Fiihi.wav\"\n",
            "(1 of 1) Processing file : \"3_Fii.wav\"\n",
            "(1 of 1) Processing file : \"3_Fiihi.wav\"\n",
            "(1 of 1) Processing file : \"4_Fii.wav\"\n",
            "(1 of 1) Processing file : \"4_Fiihi.wav\"\n",
            "(1 of 1) Processing file : \"5_Fii.wav\"\n",
            "(1 of 1) Processing file : \"5_Fiihi.wav\"\n",
            "(1 of 1) Processing file : \"1_Bii.wav\"\n",
            "(1 of 1) Processing file : \"2_Bii.wav\"\n",
            "(1 of 1) Processing file : \"3_Bii.wav\"\n",
            "(1 of 1) Processing file : \"4_Bii.wav\"\n",
            "(1 of 1) Processing file : \"5_Bii.wav\"\n",
            "(1 of 1) Processing file : \"1_Qiila.wav\"\n",
            "(1 of 1) Processing file : \"2_Qiila.wav\"\n",
            "(1 of 1) Processing file : \"3_Qiila.wav\"\n",
            "(1 of 1) Processing file : \"4_Qiila.wav\"\n",
            "(1 of 1) Processing file : \"5_Qiila.wav\"\n",
            "(1 of 1) Processing file : \"1_Sabiila.wav\"\n",
            "(1 of 1) Processing file : \"2_Sabiila.wav\"\n",
            "(1 of 1) Processing file : \"3_Sabiila.wav\"\n",
            "(1 of 1) Processing file : \"4_Sabiila.wav\"\n",
            "(1 of 1) Processing file : \"5_Sabiila.wav\"\n",
            "(1 of 1) Processing file : \"1_Qoliila.wav\"\n",
            "(1 of 1) Processing file : \"2_Qoliila.wav\"\n",
            "(1 of 1) Processing file : \"3_Qoliila.wav\"\n",
            "(1 of 1) Processing file : \"4_Qoliila.wav\"\n",
            "(1 of 1) Processing file : \"5_Qoliila.wav\"\n",
            "(1 of 1) Processing file : \"1_Jamiia.wav\"\n",
            "(1 of 1) Processing file : \"2_Jamiia.wav\"\n",
            "(1 of 1) Processing file : \"3_Jamiia.wav\"\n",
            "(1 of 1) Processing file : \"4_Jamiia.wav\"\n",
            "(1 of 1) Processing file : \"5_Jamiia.wav\"\n",
            "(1 of 1) Processing file : \"1_Yaquulu.wav\"\n",
            "(1 of 1) Processing file : \"2_Yaquulu.wav\"\n",
            "(1 of 1) Processing file : \"3_Yaquulu.wav\"\n",
            "(1 of 1) Processing file : \"4_Yaquulu.wav\"\n",
            "(1 of 1) Processing file : \"5_Yaquulu.wav\"\n",
            "(1 of 1) Processing file : \"1_Rasuulu.wav\"\n",
            "(1 of 1) Processing file : \"2_Rasuulu.wav\"\n",
            "(1 of 1) Processing file : \"3_Rasuulu.wav\"\n",
            "(1 of 1) Processing file : \"4_Rasuulu.wav\"\n",
            "(1 of 1) Processing file : \"5_Rasuulu.wav\"\n",
            "(1 of 1) Processing file : \"1_Wujuuhu.wav\"\n",
            "(1 of 1) Processing file : \"2_Wujuuhu.wav\"\n",
            "(1 of 1) Processing file : \"3_Wujuuhu.wav\"\n",
            "(1 of 1) Processing file : \"4_Wujuuhu.wav\"\n",
            "(1 of 1) Processing file : \"5_Wujuuhu.wav\"\n",
            "(1 of 1) Processing file : \"1_Yadzuuqu.wav\"\n",
            "(1 of 1) Processing file : \"2_Yadzuuqu.wav\"\n",
            "(1 of 1) Processing file : \"3_Yadzuuqu.wav\"\n",
            "(1 of 1) Processing file : \"4_Yadzuuqu.wav\"\n",
            "(1 of 1) Processing file : \"5_Yadzuuqu.wav\"\n",
            "(1 of 1) Processing file : \"1_Quluubu.wav\"\n",
            "(1 of 1) Processing file : \"2_Quluubu.wav\"\n",
            "(1 of 1) Processing file : \"3_Quluubu.wav\"\n",
            "(1 of 1) Processing file : \"4_Quluubu.wav\"\n",
            "(1 of 1) Processing file : \"5_Quluubu.wav\"\n",
            "(1 of 1) Processing file : \"1_Dzunuubi.wav\"\n",
            "(1 of 1) Processing file : \"2_Dzunuubi.wav\"\n",
            "(1 of 1) Processing file : \"3_Dzunuubi.wav\"\n",
            "(1 of 1) Processing file : \"4_Dzunuubi.wav\"\n",
            "(1 of 1) Processing file : \"5_Dzunuubi.wav\"\n"
          ]
        }
      ]
    },
    {
      "cell_type": "markdown",
      "metadata": {
        "id": "kEWfcHAccSS-"
      },
      "source": [
        "## Generate all audio file MFCC's"
      ]
    },
    {
      "cell_type": "markdown",
      "metadata": {
        "id": "reayM8Ise5xL"
      },
      "source": [
        "### With Normalization"
      ]
    },
    {
      "cell_type": "code",
      "metadata": {
        "colab": {
          "base_uri": "https://localhost:8080/"
        },
        "id": "EE-22SL3NXOF",
        "outputId": "1ce76939-8278-4d59-bd5a-a476731ab744"
      },
      "source": [
        "mfccs = []\n",
        "labels = []\n",
        "jk = ['/content/NORMALIZED CE', '/content/NORMALIZED CO']\n",
        "\n",
        "for dex, l in enumerate(label):\n",
        "  for folder in jk:\n",
        "    for file in os.listdir(folder):\n",
        "      if l+'.' in file:\n",
        "        y1, sr1 = librosa.load(os.path.join(folder, file))\n",
        "        mfcc1 = librosa.feature.mfcc(y1, sr1)\n",
        "        labels.append(dex)\n",
        "        mfccs.append(mfcc1.T)\n",
        "\n",
        "mfccs = np.array(mfccs)\n",
        "labels = np.array(labels)"
      ],
      "execution_count": null,
      "outputs": [
        {
          "output_type": "stream",
          "name": "stderr",
          "text": [
            "/usr/local/lib/python3.7/dist-packages/ipykernel_launcher.py:14: VisibleDeprecationWarning: Creating an ndarray from ragged nested sequences (which is a list-or-tuple of lists-or-tuples-or ndarrays with different lengths or shapes) is deprecated. If you meant to do this, you must specify 'dtype=object' when creating the ndarray\n",
            "  \n"
          ]
        }
      ]
    },
    {
      "cell_type": "markdown",
      "metadata": {
        "id": "aXFGDA7ae_un"
      },
      "source": [
        "### Without Normalization"
      ]
    },
    {
      "cell_type": "markdown",
      "metadata": {
        "id": "cpAdVL9upynF"
      },
      "source": [
        "#### Original Dataset"
      ]
    },
    {
      "cell_type": "code",
      "metadata": {
        "colab": {
          "base_uri": "https://localhost:8080/"
        },
        "id": "B1ADqSSVYvR-",
        "outputId": "450ddcb4-7e89-44a9-8b77-7a1090892988"
      },
      "source": [
        "mfccs = []\n",
        "labels = []\n",
        "jk = [f_out, m_out]\n",
        "\n",
        "for folder in jk:\n",
        "  for ind, subfolder in enumerate(os.listdir(folder)):\n",
        "    for file in os.listdir(os.path.join(folder,subfolder)):\n",
        "      y1, sr1 = librosa.load(os.path.join(os.path.join(folder, subfolder), file))\n",
        "      mfcc1 = librosa.feature.mfcc(y1, sr1)\n",
        "      labels.append(ind)\n",
        "      mfccs.append(mfcc1.T)\n",
        "\n",
        "mfccs = np.array(mfccs)\n",
        "labels = np.array(labels)"
      ],
      "execution_count": 12,
      "outputs": [
        {
          "output_type": "stream",
          "name": "stderr",
          "text": [
            "/usr/local/lib/python3.7/dist-packages/ipykernel_launcher.py:13: VisibleDeprecationWarning: Creating an ndarray from ragged nested sequences (which is a list-or-tuple of lists-or-tuples-or ndarrays with different lengths or shapes) is deprecated. If you meant to do this, you must specify 'dtype=object' when creating the ndarray.\n",
            "  del sys.path[0]\n"
          ]
        }
      ]
    },
    {
      "cell_type": "markdown",
      "metadata": {
        "id": "uNv6j71vp37M"
      },
      "source": [
        "#### New Dataset"
      ]
    },
    {
      "cell_type": "code",
      "metadata": {
        "colab": {
          "base_uri": "https://localhost:8080/"
        },
        "id": "zrzcjACMafug",
        "outputId": "de42937b-4198-4d0f-e5e1-9a1ec2c051f6"
      },
      "source": [
        "new_mfccs = []\n",
        "new_labels = []\n",
        "\n",
        "for dex, l in enumerate(label):\n",
        "  for file in os.listdir(baru):\n",
        "    if l+'.' in file:\n",
        "      y1, sr1 = librosa.load(os.path.join(baru, file))\n",
        "      mfcc1 = librosa.feature.mfcc(y1, sr1)\n",
        "      new_labels.append(dex)\n",
        "      new_mfccs.append(mfcc1.T)\n",
        "\n",
        "new_mfccs = np.array(new_mfccs)\n",
        "new_labels = np.array(new_labels)"
      ],
      "execution_count": 13,
      "outputs": [
        {
          "output_type": "stream",
          "name": "stderr",
          "text": [
            "/usr/local/lib/python3.7/dist-packages/ipykernel_launcher.py:12: VisibleDeprecationWarning: Creating an ndarray from ragged nested sequences (which is a list-or-tuple of lists-or-tuples-or ndarrays with different lengths or shapes) is deprecated. If you meant to do this, you must specify 'dtype=object' when creating the ndarray.\n",
            "  if sys.path[0] == '':\n"
          ]
        }
      ]
    },
    {
      "cell_type": "markdown",
      "metadata": {
        "id": "PpJKB3jop65l"
      },
      "source": [
        "#### Combined Dataset"
      ]
    },
    {
      "cell_type": "code",
      "metadata": {
        "colab": {
          "base_uri": "https://localhost:8080/"
        },
        "id": "EU-sxJb0WKS0",
        "outputId": "b73a3433-839b-49f8-cb73-76d3c926ba6f"
      },
      "source": [
        "all_mfccs = []\n",
        "all_labels = []\n",
        "\n",
        "for i, lab in enumerate(label):\n",
        "  for j in range(10):\n",
        "    if j<5:\n",
        "      all_mfccs.append(mfccs[j+(i*5)])\n",
        "      all_labels.append(labels[j+(i*5)])\n",
        "    else:\n",
        "      all_mfccs.append(mfccs[j+(i*5)+95])\n",
        "      all_labels.append(labels[j+(i*5)+95])\n",
        "  for k in range(40):\n",
        "    all_mfccs.append(new_mfccs[k+(i*40)])\n",
        "    all_labels.append(new_labels[k+(i*40)])\n",
        "\n",
        "all_mfccs = np.array(all_mfccs)\n",
        "all_labels = np.array(all_labels)"
      ],
      "execution_count": 14,
      "outputs": [
        {
          "output_type": "stream",
          "name": "stderr",
          "text": [
            "/usr/local/lib/python3.7/dist-packages/ipykernel_launcher.py:16: VisibleDeprecationWarning: Creating an ndarray from ragged nested sequences (which is a list-or-tuple of lists-or-tuples-or ndarrays with different lengths or shapes) is deprecated. If you meant to do this, you must specify 'dtype=object' when creating the ndarray.\n",
            "  app.launch_new_instance()\n"
          ]
        }
      ]
    },
    {
      "cell_type": "markdown",
      "metadata": {
        "id": "oPsmSy6Xp-cY"
      },
      "source": [
        "#### MFCC reference for each label"
      ]
    },
    {
      "cell_type": "code",
      "metadata": {
        "colab": {
          "base_uri": "https://localhost:8080/"
        },
        "id": "3vFDfqffgya3",
        "outputId": "c03a7c13-1586-42a2-abef-eff7b97d3e0c"
      },
      "source": [
        "ref_mfccs = []\n",
        "for i, lab in enumerate(label):\n",
        "  ref_mfccs.append(mfccs[i*5])\n",
        "\n",
        "ref_mfccs = np.array(ref_mfccs)"
      ],
      "execution_count": 15,
      "outputs": [
        {
          "output_type": "stream",
          "name": "stderr",
          "text": [
            "/usr/local/lib/python3.7/dist-packages/ipykernel_launcher.py:5: VisibleDeprecationWarning: Creating an ndarray from ragged nested sequences (which is a list-or-tuple of lists-or-tuples-or ndarrays with different lengths or shapes) is deprecated. If you meant to do this, you must specify 'dtype=object' when creating the ndarray.\n",
            "  \"\"\"\n"
          ]
        }
      ]
    },
    {
      "cell_type": "markdown",
      "metadata": {
        "id": "rjTEGNeNfEJu"
      },
      "source": [
        "### Preview & Save"
      ]
    },
    {
      "cell_type": "code",
      "metadata": {
        "colab": {
          "base_uri": "https://localhost:8080/"
        },
        "id": "Oka0xXk8ZtBJ",
        "outputId": "a3f014ac-3b57-429f-b36e-199ca3a697e0"
      },
      "source": [
        "mfccs.shape"
      ],
      "execution_count": null,
      "outputs": [
        {
          "output_type": "execute_result",
          "data": {
            "text/plain": [
              "(200,)"
            ]
          },
          "metadata": {},
          "execution_count": 12
        }
      ]
    },
    {
      "cell_type": "code",
      "metadata": {
        "colab": {
          "base_uri": "https://localhost:8080/"
        },
        "id": "w5_54z1qUD0E",
        "outputId": "40d25032-77a5-42ad-dca3-571bc8a9542f"
      },
      "source": [
        "labels"
      ],
      "execution_count": null,
      "outputs": [
        {
          "output_type": "execute_result",
          "data": {
            "text/plain": [
              "array([ 0,  0,  0,  0,  0,  1,  1,  1,  1,  1,  2,  2,  2,  2,  2,  3,  3,\n",
              "        3,  3,  3,  4,  4,  4,  4,  4,  5,  5,  5,  5,  5,  6,  6,  6,  6,\n",
              "        6,  7,  7,  7,  7,  7,  7,  7,  7,  7,  7,  8,  8,  8,  8,  8,  9,\n",
              "        9,  9,  9,  9, 10, 10, 10, 10, 10, 11, 11, 11, 11, 11, 12, 12, 12,\n",
              "       12, 12, 14, 14, 14, 14, 14, 15, 15, 15, 15, 15, 16, 16, 16, 16, 16,\n",
              "       17, 17, 17, 17, 17, 18, 18, 18, 18, 18, 19, 19, 19, 19, 19,  0,  0,\n",
              "        0,  0,  0,  1,  1,  1,  1,  1,  2,  2,  2,  2,  2,  3,  3,  3,  3,\n",
              "        3,  4,  4,  4,  4,  4,  5,  5,  5,  5,  5,  6,  6,  6,  6,  6,  7,\n",
              "        7,  7,  7,  7,  7,  7,  7,  7,  7,  8,  8,  8,  8,  8,  9,  9,  9,\n",
              "        9,  9, 10, 10, 10, 10, 10, 11, 11, 11, 11, 11, 12, 12, 12, 12, 12,\n",
              "       14, 14, 14, 14, 14, 15, 15, 15, 15, 15, 16, 16, 16, 16, 16, 17, 17,\n",
              "       17, 17, 17, 18, 18, 18, 18, 18, 19, 19, 19, 19, 19])"
            ]
          },
          "metadata": {},
          "execution_count": 13
        }
      ]
    },
    {
      "cell_type": "code",
      "metadata": {
        "colab": {
          "base_uri": "https://localhost:8080/"
        },
        "id": "fcn1LRwMUJWm",
        "outputId": "d0f2077a-5d3f-4cfc-aff1-46075c00dc1f"
      },
      "source": [
        "labels.shape"
      ],
      "execution_count": null,
      "outputs": [
        {
          "output_type": "execute_result",
          "data": {
            "text/plain": [
              "(200,)"
            ]
          },
          "metadata": {},
          "execution_count": 14
        }
      ]
    },
    {
      "cell_type": "code",
      "metadata": {
        "colab": {
          "base_uri": "https://localhost:8080/"
        },
        "id": "aEo6wPawcJh8",
        "outputId": "12374c7c-7aad-46db-d229-fb0b7540ad16"
      },
      "source": [
        "new_mfccs.shape"
      ],
      "execution_count": null,
      "outputs": [
        {
          "output_type": "execute_result",
          "data": {
            "text/plain": [
              "(800,)"
            ]
          },
          "metadata": {},
          "execution_count": 17
        }
      ]
    },
    {
      "cell_type": "code",
      "metadata": {
        "colab": {
          "base_uri": "https://localhost:8080/"
        },
        "id": "gh14wq1xcNEa",
        "outputId": "c99b9878-fd02-48da-df32-d38ad8e582ce"
      },
      "source": [
        "new_labels"
      ],
      "execution_count": null,
      "outputs": [
        {
          "output_type": "execute_result",
          "data": {
            "text/plain": [
              "array([ 0,  0,  0,  0,  0,  0,  0,  0,  0,  0,  0,  0,  0,  0,  0,  0,  0,\n",
              "        0,  0,  0,  0,  0,  0,  0,  0,  0,  0,  0,  0,  0,  0,  0,  0,  0,\n",
              "        0,  0,  0,  0,  0,  0,  1,  1,  1,  1,  1,  1,  1,  1,  1,  1,  1,\n",
              "        1,  1,  1,  1,  1,  1,  1,  1,  1,  1,  1,  1,  1,  1,  1,  1,  1,\n",
              "        1,  1,  1,  1,  1,  1,  1,  1,  1,  1,  1,  1,  2,  2,  2,  2,  2,\n",
              "        2,  2,  2,  2,  2,  2,  2,  2,  2,  2,  2,  2,  2,  2,  2,  2,  2,\n",
              "        2,  2,  2,  2,  2,  2,  2,  2,  2,  2,  2,  2,  2,  2,  2,  2,  2,\n",
              "        2,  3,  3,  3,  3,  3,  3,  3,  3,  3,  3,  3,  3,  3,  3,  3,  3,\n",
              "        3,  3,  3,  3,  3,  3,  3,  3,  3,  3,  3,  3,  3,  3,  3,  3,  3,\n",
              "        3,  3,  3,  3,  3,  3,  3,  4,  4,  4,  4,  4,  4,  4,  4,  4,  4,\n",
              "        4,  4,  4,  4,  4,  4,  4,  4,  4,  4,  4,  4,  4,  4,  4,  4,  4,\n",
              "        4,  4,  4,  4,  4,  4,  4,  4,  4,  4,  4,  4,  4,  5,  5,  5,  5,\n",
              "        5,  5,  5,  5,  5,  5,  5,  5,  5,  5,  5,  5,  5,  5,  5,  5,  5,\n",
              "        5,  5,  5,  5,  5,  5,  5,  5,  5,  5,  5,  5,  5,  5,  5,  5,  5,\n",
              "        5,  5,  6,  6,  6,  6,  6,  6,  6,  6,  6,  6,  6,  6,  6,  6,  6,\n",
              "        6,  6,  6,  6,  6,  6,  6,  6,  6,  6,  6,  6,  6,  6,  6,  6,  6,\n",
              "        6,  6,  6,  6,  6,  6,  6,  6,  7,  7,  7,  7,  7,  7,  7,  7,  7,\n",
              "        7,  7,  7,  7,  7,  7,  7,  7,  7,  7,  7,  7,  7,  7,  7,  7,  7,\n",
              "        7,  7,  7,  7,  7,  7,  7,  7,  7,  7,  7,  7,  7,  7,  8,  8,  8,\n",
              "        8,  8,  8,  8,  8,  8,  8,  8,  8,  8,  8,  8,  8,  8,  8,  8,  8,\n",
              "        8,  8,  8,  8,  8,  8,  8,  8,  8,  8,  8,  8,  8,  8,  8,  8,  8,\n",
              "        8,  8,  8,  9,  9,  9,  9,  9,  9,  9,  9,  9,  9,  9,  9,  9,  9,\n",
              "        9,  9,  9,  9,  9,  9,  9,  9,  9,  9,  9,  9,  9,  9,  9,  9,  9,\n",
              "        9,  9,  9,  9,  9,  9,  9,  9,  9, 10, 10, 10, 10, 10, 10, 10, 10,\n",
              "       10, 10, 10, 10, 10, 10, 10, 10, 10, 10, 10, 10, 10, 10, 10, 10, 10,\n",
              "       10, 10, 10, 10, 10, 10, 10, 10, 10, 10, 10, 10, 10, 10, 10, 11, 11,\n",
              "       11, 11, 11, 11, 11, 11, 11, 11, 11, 11, 11, 11, 11, 11, 11, 11, 11,\n",
              "       11, 11, 11, 11, 11, 11, 11, 11, 11, 11, 11, 11, 11, 11, 11, 11, 11,\n",
              "       11, 11, 11, 11, 12, 12, 12, 12, 12, 12, 12, 12, 12, 12, 12, 12, 12,\n",
              "       12, 12, 12, 12, 12, 12, 12, 12, 12, 12, 12, 12, 12, 12, 12, 12, 12,\n",
              "       12, 12, 12, 12, 12, 12, 12, 12, 12, 12, 13, 13, 13, 13, 13, 13, 13,\n",
              "       13, 13, 13, 13, 13, 13, 13, 13, 13, 13, 13, 13, 13, 13, 13, 13, 13,\n",
              "       13, 13, 13, 13, 13, 13, 13, 13, 13, 13, 13, 13, 13, 13, 13, 13, 14,\n",
              "       14, 14, 14, 14, 14, 14, 14, 14, 14, 14, 14, 14, 14, 14, 14, 14, 14,\n",
              "       14, 14, 14, 14, 14, 14, 14, 14, 14, 14, 14, 14, 14, 14, 14, 14, 14,\n",
              "       14, 14, 14, 14, 14, 15, 15, 15, 15, 15, 15, 15, 15, 15, 15, 15, 15,\n",
              "       15, 15, 15, 15, 15, 15, 15, 15, 15, 15, 15, 15, 15, 15, 15, 15, 15,\n",
              "       15, 15, 15, 15, 15, 15, 15, 15, 15, 15, 15, 16, 16, 16, 16, 16, 16,\n",
              "       16, 16, 16, 16, 16, 16, 16, 16, 16, 16, 16, 16, 16, 16, 16, 16, 16,\n",
              "       16, 16, 16, 16, 16, 16, 16, 16, 16, 16, 16, 16, 16, 16, 16, 16, 16,\n",
              "       17, 17, 17, 17, 17, 17, 17, 17, 17, 17, 17, 17, 17, 17, 17, 17, 17,\n",
              "       17, 17, 17, 17, 17, 17, 17, 17, 17, 17, 17, 17, 17, 17, 17, 17, 17,\n",
              "       17, 17, 17, 17, 17, 17, 18, 18, 18, 18, 18, 18, 18, 18, 18, 18, 18,\n",
              "       18, 18, 18, 18, 18, 18, 18, 18, 18, 18, 18, 18, 18, 18, 18, 18, 18,\n",
              "       18, 18, 18, 18, 18, 18, 18, 18, 18, 18, 18, 18, 19, 19, 19, 19, 19,\n",
              "       19, 19, 19, 19, 19, 19, 19, 19, 19, 19, 19, 19, 19, 19, 19, 19, 19,\n",
              "       19, 19, 19, 19, 19, 19, 19, 19, 19, 19, 19, 19, 19, 19, 19, 19, 19,\n",
              "       19])"
            ]
          },
          "metadata": {},
          "execution_count": 18
        }
      ]
    },
    {
      "cell_type": "code",
      "metadata": {
        "colab": {
          "base_uri": "https://localhost:8080/"
        },
        "id": "uEaW_lWMcP16",
        "outputId": "b60aa724-1d21-4638-cc08-f5bab64b5947"
      },
      "source": [
        "new_labels.shape"
      ],
      "execution_count": null,
      "outputs": [
        {
          "output_type": "execute_result",
          "data": {
            "text/plain": [
              "(800,)"
            ]
          },
          "metadata": {},
          "execution_count": 19
        }
      ]
    },
    {
      "cell_type": "code",
      "metadata": {
        "colab": {
          "base_uri": "https://localhost:8080/"
        },
        "id": "AOTohvDscSlZ",
        "outputId": "328976d5-b52b-49cb-b5c5-f00ae373d308"
      },
      "source": [
        "all_mfccs.shape"
      ],
      "execution_count": null,
      "outputs": [
        {
          "output_type": "execute_result",
          "data": {
            "text/plain": [
              "(1000,)"
            ]
          },
          "metadata": {},
          "execution_count": 25
        }
      ]
    },
    {
      "cell_type": "code",
      "metadata": {
        "colab": {
          "base_uri": "https://localhost:8080/"
        },
        "id": "Tm7oQxu6cV3V",
        "outputId": "bafea08d-3575-4a66-a9a2-7172eec94e40"
      },
      "source": [
        "all_labels"
      ],
      "execution_count": null,
      "outputs": [
        {
          "output_type": "execute_result",
          "data": {
            "text/plain": [
              "array([ 0,  0,  0,  0,  0,  0,  0,  0,  0,  0,  0,  0,  0,  0,  0,  0,  0,\n",
              "        0,  0,  0,  0,  0,  0,  0,  0,  0,  0,  0,  0,  0,  0,  0,  0,  0,\n",
              "        0,  0,  0,  0,  0,  0,  0,  0,  0,  0,  0,  0,  0,  0,  0,  0,  1,\n",
              "        1,  1,  1,  1,  1,  1,  1,  1,  1,  1,  1,  1,  1,  1,  1,  1,  1,\n",
              "        1,  1,  1,  1,  1,  1,  1,  1,  1,  1,  1,  1,  1,  1,  1,  1,  1,\n",
              "        1,  1,  1,  1,  1,  1,  1,  1,  1,  1,  1,  1,  1,  1,  1,  2,  2,\n",
              "        2,  2,  2,  2,  2,  2,  2,  2,  2,  2,  2,  2,  2,  2,  2,  2,  2,\n",
              "        2,  2,  2,  2,  2,  2,  2,  2,  2,  2,  2,  2,  2,  2,  2,  2,  2,\n",
              "        2,  2,  2,  2,  2,  2,  2,  2,  2,  2,  2,  2,  2,  2,  3,  3,  3,\n",
              "        3,  3,  3,  3,  3,  3,  3,  3,  3,  3,  3,  3,  3,  3,  3,  3,  3,\n",
              "        3,  3,  3,  3,  3,  3,  3,  3,  3,  3,  3,  3,  3,  3,  3,  3,  3,\n",
              "        3,  3,  3,  3,  3,  3,  3,  3,  3,  3,  3,  3,  3,  4,  4,  4,  4,\n",
              "        4,  4,  4,  4,  4,  4,  4,  4,  4,  4,  4,  4,  4,  4,  4,  4,  4,\n",
              "        4,  4,  4,  4,  4,  4,  4,  4,  4,  4,  4,  4,  4,  4,  4,  4,  4,\n",
              "        4,  4,  4,  4,  4,  4,  4,  4,  4,  4,  4,  4,  5,  5,  5,  5,  5,\n",
              "        5,  5,  5,  5,  5,  5,  5,  5,  5,  5,  5,  5,  5,  5,  5,  5,  5,\n",
              "        5,  5,  5,  5,  5,  5,  5,  5,  5,  5,  5,  5,  5,  5,  5,  5,  5,\n",
              "        5,  5,  5,  5,  5,  5,  5,  5,  5,  5,  5,  6,  6,  6,  6,  6,  6,\n",
              "        6,  6,  6,  6,  6,  6,  6,  6,  6,  6,  6,  6,  6,  6,  6,  6,  6,\n",
              "        6,  6,  6,  6,  6,  6,  6,  6,  6,  6,  6,  6,  6,  6,  6,  6,  6,\n",
              "        6,  6,  6,  6,  6,  6,  6,  6,  6,  6,  7,  7,  7,  7,  7,  7,  7,\n",
              "        7,  7,  7,  7,  7,  7,  7,  7,  7,  7,  7,  7,  7,  7,  7,  7,  7,\n",
              "        7,  7,  7,  7,  7,  7,  7,  7,  7,  7,  7,  7,  7,  7,  7,  7,  7,\n",
              "        7,  7,  7,  7,  7,  7,  7,  7,  7,  7,  7,  7,  7,  7,  7,  7,  7,\n",
              "        7,  7,  8,  8,  8,  8,  8,  8,  8,  8,  8,  8,  8,  8,  8,  8,  8,\n",
              "        8,  8,  8,  8,  8,  8,  8,  8,  8,  8,  8,  8,  8,  8,  8,  8,  8,\n",
              "        8,  8,  8,  8,  8,  8,  8,  8,  8,  8,  8,  8,  8,  8,  8,  8,  8,\n",
              "        8,  9,  9,  9,  9,  9,  9,  9,  9,  9,  9,  9,  9,  9,  9,  9,  9,\n",
              "        9,  9,  9,  9,  9,  9,  9,  9,  9,  9,  9,  9,  9,  9,  9,  9,  9,\n",
              "        9,  9,  9,  9,  9,  9,  9,  9,  9,  9,  9,  9,  9,  9,  9,  9,  9,\n",
              "       10, 10, 10, 10, 10, 10, 10, 10, 10, 10, 10, 10, 10, 10, 10, 10, 10,\n",
              "       10, 10, 10, 10, 10, 10, 10, 10, 10, 10, 10, 10, 10, 10, 10, 10, 10,\n",
              "       10, 10, 10, 10, 10, 10, 10, 10, 10, 10, 10, 10, 10, 10, 10, 10, 11,\n",
              "       11, 11, 11, 11, 11, 11, 11, 11, 11, 11, 11, 11, 11, 11, 11, 11, 11,\n",
              "       11, 11, 11, 11, 11, 11, 11, 11, 11, 11, 11, 11, 11, 11, 11, 11, 11,\n",
              "       11, 11, 11, 11, 11, 11, 11, 11, 11, 11, 11, 11, 11, 11, 11, 12, 12,\n",
              "       12, 12, 12, 12, 12, 12, 12, 12, 12, 12, 12, 12, 12, 12, 12, 12, 12,\n",
              "       12, 12, 12, 12, 12, 12, 12, 12, 12, 12, 12, 12, 12, 12, 12, 12, 12,\n",
              "       12, 12, 12, 12, 12, 12, 12, 12, 12, 12, 12, 12, 12, 12, 13, 13, 13,\n",
              "       13, 13, 13, 13, 13, 13, 13, 13, 13, 13, 13, 13, 13, 13, 13, 13, 13,\n",
              "       13, 13, 13, 13, 13, 13, 13, 13, 13, 13, 13, 13, 13, 13, 13, 13, 13,\n",
              "       13, 13, 13, 14, 14, 14, 14, 14, 14, 14, 14, 14, 14, 14, 14, 14, 14,\n",
              "       14, 14, 14, 14, 14, 14, 14, 14, 14, 14, 14, 14, 14, 14, 14, 14, 14,\n",
              "       14, 14, 14, 14, 14, 14, 14, 14, 14, 14, 14, 14, 14, 14, 14, 14, 14,\n",
              "       14, 14, 15, 15, 15, 15, 15, 15, 15, 15, 15, 15, 15, 15, 15, 15, 15,\n",
              "       15, 15, 15, 15, 15, 15, 15, 15, 15, 15, 15, 15, 15, 15, 15, 15, 15,\n",
              "       15, 15, 15, 15, 15, 15, 15, 15, 15, 15, 15, 15, 15, 15, 15, 15, 15,\n",
              "       15, 16, 16, 16, 16, 16, 16, 16, 16, 16, 16, 16, 16, 16, 16, 16, 16,\n",
              "       16, 16, 16, 16, 16, 16, 16, 16, 16, 16, 16, 16, 16, 16, 16, 16, 16,\n",
              "       16, 16, 16, 16, 16, 16, 16, 16, 16, 16, 16, 16, 16, 16, 16, 16, 16,\n",
              "       17, 17, 17, 17, 17, 17, 17, 17, 17, 17, 17, 17, 17, 17, 17, 17, 17,\n",
              "       17, 17, 17, 17, 17, 17, 17, 17, 17, 17, 17, 17, 17, 17, 17, 17, 17,\n",
              "       17, 17, 17, 17, 17, 17, 17, 17, 17, 17, 17, 17, 17, 17, 17, 17, 18,\n",
              "       18, 18, 18, 18, 18, 18, 18, 18, 18, 18, 18, 18, 18, 18, 18, 18, 18,\n",
              "       18, 18, 18, 18, 18, 18, 18, 18, 18, 18, 18, 18, 18, 18, 18, 18, 18,\n",
              "       18, 18, 18, 18, 18, 18, 18, 18, 18, 18, 18, 18, 18, 18, 18, 19, 19,\n",
              "       19, 19, 19, 19, 19, 19, 19, 19, 19, 19, 19, 19, 19, 19, 19, 19, 19,\n",
              "       19, 19, 19, 19, 19, 19, 19, 19, 19, 19, 19, 19, 19, 19, 19, 19, 19,\n",
              "       19, 19, 19, 19, 19, 19, 19, 19, 19, 19, 19, 19, 19, 19])"
            ]
          },
          "metadata": {},
          "execution_count": 26
        }
      ]
    },
    {
      "cell_type": "code",
      "metadata": {
        "colab": {
          "base_uri": "https://localhost:8080/"
        },
        "id": "6WfOZYvvcX3Z",
        "outputId": "14b21c9e-9611-4f54-85d9-b029657e112a"
      },
      "source": [
        "all_labels.shape"
      ],
      "execution_count": null,
      "outputs": [
        {
          "output_type": "execute_result",
          "data": {
            "text/plain": [
              "(1000,)"
            ]
          },
          "metadata": {},
          "execution_count": 27
        }
      ]
    },
    {
      "cell_type": "code",
      "metadata": {
        "colab": {
          "base_uri": "https://localhost:8080/"
        },
        "id": "oESin_0thjT_",
        "outputId": "7059bf5c-289b-46cd-d606-710c473bdd32"
      },
      "source": [
        "ref_mfccs.shape"
      ],
      "execution_count": null,
      "outputs": [
        {
          "output_type": "execute_result",
          "data": {
            "text/plain": [
              "(20,)"
            ]
          },
          "metadata": {},
          "execution_count": 30
        }
      ]
    },
    {
      "cell_type": "code",
      "metadata": {
        "id": "Ns6n2xouFMyy"
      },
      "source": [
        "np.save('all_mfccs.npy', all_mfccs)"
      ],
      "execution_count": null,
      "outputs": []
    },
    {
      "cell_type": "code",
      "metadata": {
        "id": "4WByP3MSFb2N"
      },
      "source": [
        "np.save('all_labels.npy', all_labels)"
      ],
      "execution_count": null,
      "outputs": []
    },
    {
      "cell_type": "code",
      "metadata": {
        "id": "dI4veYPdhm9I"
      },
      "source": [
        "np.save('ref_mfcccs.npy', ref_mfccs)"
      ],
      "execution_count": null,
      "outputs": []
    },
    {
      "cell_type": "markdown",
      "metadata": {
        "id": "Y5dP1IPxcZDw"
      },
      "source": [
        "## Load already created reference MFCC's of all 20 labels"
      ]
    },
    {
      "cell_type": "code",
      "metadata": {
        "id": "h4cY3NzhU4Dr"
      },
      "source": [
        "ref_mfccs = np.load('/content/ref_mfccs.npy', allow_pickle=True)"
      ],
      "execution_count": null,
      "outputs": []
    },
    {
      "cell_type": "markdown",
      "metadata": {
        "id": "gLQRIMC2bxE1"
      },
      "source": [
        "## Find the DTW's based on reference MFCC's"
      ]
    },
    {
      "cell_type": "code",
      "metadata": {
        "id": "e5RLJsMKyLBD"
      },
      "source": [
        "dtws = []\n",
        "for i, x in enumerate(all_mfccs):\n",
        "  temp = []\n",
        "  for y in ref_mfccs:\n",
        "    d, _, _, _ = dtw(x, y, dist=lambda x, y: np.linalg.norm(x - y, ord=1))\n",
        "    temp.append(d)\n",
        "  dtws.append(temp)"
      ],
      "execution_count": 16,
      "outputs": []
    },
    {
      "cell_type": "code",
      "metadata": {
        "id": "iSYHeVxBbCj_"
      },
      "source": [
        "dtws = np.array(dtws)"
      ],
      "execution_count": 17,
      "outputs": []
    },
    {
      "cell_type": "code",
      "metadata": {
        "colab": {
          "base_uri": "https://localhost:8080/"
        },
        "id": "mO0zwt0vbJ6A",
        "outputId": "21cb40e3-f775-4b88-9a17-4cf39042a0b3"
      },
      "source": [
        "dtws.shape"
      ],
      "execution_count": 18,
      "outputs": [
        {
          "output_type": "execute_result",
          "data": {
            "text/plain": [
              "(1000, 20)"
            ]
          },
          "metadata": {},
          "execution_count": 18
        }
      ]
    },
    {
      "cell_type": "code",
      "metadata": {
        "colab": {
          "base_uri": "https://localhost:8080/"
        },
        "id": "zcjtoJHm2v0R",
        "outputId": "a874bea4-29da-4dcb-96bd-af0c37954bbf"
      },
      "source": [
        "dtws"
      ],
      "execution_count": 19,
      "outputs": [
        {
          "output_type": "execute_result",
          "data": {
            "text/plain": [
              "array([[    0.        , 13136.72756195, 11666.50363159, ...,\n",
              "        24557.22701263, 23176.25865173, 24665.88248444],\n",
              "       [38806.61968994, 39570.67648315, 39183.40039062, ...,\n",
              "        47297.42749023, 48960.02304077, 48358.12393188],\n",
              "       [35285.38360596, 35708.76055908, 34962.05731201, ...,\n",
              "        42397.43002319, 41912.98696899, 42926.95529175],\n",
              "       ...,\n",
              "       [24634.78889465, 26225.6368866 , 24918.75863647, ...,\n",
              "        31029.92146301, 29484.43640137, 26616.20843506],\n",
              "       [25888.01014709, 27080.76922607, 26668.51547241, ...,\n",
              "        31937.56918335, 30555.17346191, 27544.32015991],\n",
              "       [25122.75352478, 26101.22511292, 25982.77212524, ...,\n",
              "        30867.27331543, 29587.5246582 , 26216.02333069]])"
            ]
          },
          "metadata": {},
          "execution_count": 19
        }
      ]
    },
    {
      "cell_type": "code",
      "source": [
        "from sklearn.preprocessing import MinMaxScaler\n",
        "\n",
        "scaler = MinMaxScaler()\n",
        "# transform data\n",
        "norm_dtws = scaler.fit_transform(dtws)\n",
        "norm_dtws"
      ],
      "metadata": {
        "colab": {
          "base_uri": "https://localhost:8080/"
        },
        "id": "oEyYmgY79Amt",
        "outputId": "546f24cf-12f6-4f4d-8a00-48f73c85e03e"
      },
      "execution_count": 90,
      "outputs": [
        {
          "output_type": "execute_result",
          "data": {
            "text/plain": [
              "array([[0.        , 0.2851777 , 0.24728686, ..., 0.46146089, 0.41778346,\n",
              "        0.46141286],\n",
              "       [0.80238933, 0.85901717, 0.83054362, ..., 0.88877759, 0.88257074,\n",
              "        0.90461229],\n",
              "       [0.7295821 , 0.77518105, 0.74106671, ..., 0.79670054, 0.75553837,\n",
              "        0.80301402],\n",
              "       ...,\n",
              "       [0.50936391, 0.56931734, 0.52818581, ..., 0.58309089, 0.53149691,\n",
              "        0.49789668],\n",
              "       [0.53527628, 0.58788092, 0.5652742 , ..., 0.60014672, 0.55079839,\n",
              "        0.51525842],\n",
              "       [0.51945337, 0.56661656, 0.55073897, ..., 0.58003453, 0.53335521,\n",
              "        0.49041061]])"
            ]
          },
          "metadata": {},
          "execution_count": 90
        }
      ]
    },
    {
      "cell_type": "code",
      "source": [
        "from sklearn.preprocessing import StandardScaler\n",
        "\n",
        "scaler = StandardScaler()\n",
        "# transform data\n",
        "scaled_dtws = scaler.fit_transform(dtws)\n",
        "scaled_dtws"
      ],
      "metadata": {
        "colab": {
          "base_uri": "https://localhost:8080/"
        },
        "id": "R0vBw7lC8T40",
        "outputId": "966ec74e-e1c6-408e-dd0e-3b61f42a7ca8"
      },
      "execution_count": 74,
      "outputs": [
        {
          "output_type": "execute_result",
          "data": {
            "text/plain": [
              "array([[-5.4055695 , -2.97915462, -2.95868837, ..., -2.03286815,\n",
              "        -1.97557251, -1.94867345],\n",
              "       [ 1.76884787,  1.88011198,  1.7976399 , ...,  1.6718548 ,\n",
              "         2.06192517,  1.82521999],\n",
              "       [ 1.1178554 ,  1.17018857,  1.06797574, ...,  0.87357102,\n",
              "         0.95842487,  0.96009916],\n",
              "       ...,\n",
              "       [-0.85118525, -0.57306312, -0.66802036, ..., -0.97836823,\n",
              "        -0.98777055, -1.63800962],\n",
              "       [-0.61949457, -0.41586693, -0.36557281, ..., -0.83049867,\n",
              "        -0.82010309, -1.49017242],\n",
              "       [-0.76097224, -0.59593333, -0.48410436, ..., -1.00486608,\n",
              "        -0.97162789, -1.70175437]])"
            ]
          },
          "metadata": {},
          "execution_count": 74
        }
      ]
    },
    {
      "cell_type": "code",
      "metadata": {
        "id": "6sixvaw6t4_S"
      },
      "source": [
        "np.save('DTWS.npy', dtws)"
      ],
      "execution_count": null,
      "outputs": []
    },
    {
      "cell_type": "markdown",
      "metadata": {
        "id": "OMkiR7h_EBuM"
      },
      "source": [
        "# Train Test Split\n",
        "(Optional because having new seperate test data, but preferable for validating the training process)"
      ]
    },
    {
      "cell_type": "code",
      "metadata": {
        "id": "hQuvRjEgmzYd"
      },
      "source": [
        "from sklearn.model_selection import train_test_split\n",
        "\n",
        "X_train, X_test, y_train, y_test = train_test_split(norm_dtws,all_labels,test_size=0.2)"
      ],
      "execution_count": 173,
      "outputs": []
    },
    {
      "cell_type": "code",
      "metadata": {
        "colab": {
          "base_uri": "https://localhost:8080/"
        },
        "id": "ygQxn9PGY958",
        "outputId": "89465f7f-8bb1-48ac-ae7c-0ea288c54dd3"
      },
      "source": [
        "X_train.shape"
      ],
      "execution_count": 174,
      "outputs": [
        {
          "output_type": "execute_result",
          "data": {
            "text/plain": [
              "(800, 20)"
            ]
          },
          "metadata": {},
          "execution_count": 174
        }
      ]
    },
    {
      "cell_type": "code",
      "metadata": {
        "id": "5Hy-fD-hZDbk",
        "colab": {
          "base_uri": "https://localhost:8080/"
        },
        "outputId": "e6e690b3-8cd5-490c-eab5-3f59140082b9"
      },
      "source": [
        "y_train.shape"
      ],
      "execution_count": 175,
      "outputs": [
        {
          "output_type": "execute_result",
          "data": {
            "text/plain": [
              "(800,)"
            ]
          },
          "metadata": {},
          "execution_count": 175
        }
      ]
    },
    {
      "cell_type": "code",
      "metadata": {
        "colab": {
          "base_uri": "https://localhost:8080/"
        },
        "id": "d_Lfa5ZhaL-K",
        "outputId": "0f1bd42c-a221-433d-e51b-6b0bdae8f655"
      },
      "source": [
        "y_train"
      ],
      "execution_count": 176,
      "outputs": [
        {
          "output_type": "execute_result",
          "data": {
            "text/plain": [
              "array([ 1, 12,  8, 18,  5,  7,  8,  5,  7,  9, 19,  3,  9,  2,  7,  2,  1,\n",
              "        0,  3,  4, 19,  4,  4,  2, 13,  2,  3, 17, 16, 12,  8, 14,  3,  6,\n",
              "       10,  4,  5,  1, 12, 19, 16,  3,  4,  9,  8,  6, 10, 18, 16, 19, 14,\n",
              "       13,  1, 15,  6, 18,  9, 19, 16, 11, 18, 11,  0, 14,  8,  1,  0,  7,\n",
              "        6,  3,  3,  7, 18,  3, 11,  6, 11,  1,  6, 13, 14,  4,  1, 16,  7,\n",
              "       10,  4, 18,  8, 11, 15, 18,  5,  3,  0, 11, 15,  2,  6, 19, 10,  5,\n",
              "       17, 18, 10, 19, 16, 14, 11,  8, 12, 11, 16,  1,  5, 14,  6,  3, 10,\n",
              "       13,  9, 19,  7,  6,  7, 19,  3, 18,  4,  0, 18,  5, 19, 17, 15,  2,\n",
              "       16, 17,  0, 14, 13,  4,  8,  4,  5, 16, 14,  4, 17,  7, 12,  5, 15,\n",
              "        9,  0,  5,  8,  0, 18, 18,  7,  6, 10, 16,  9, 19,  9, 13,  5,  7,\n",
              "        5,  2,  0, 12,  2,  9,  5, 17, 14,  4,  0, 13, 12,  3, 14, 17,  8,\n",
              "        4, 12,  2, 11, 14, 14, 19, 14, 12,  7, 18, 18, 11,  7,  4, 15,  0,\n",
              "        2, 15, 16, 16, 10,  6,  0,  5, 11,  6,  2,  5,  0,  8,  0, 15, 14,\n",
              "        9,  7,  3, 19,  1, 15,  8,  3, 18, 18,  3,  1, 10, 16, 11, 10, 16,\n",
              "        4, 16, 18, 17,  9, 12,  8, 16,  0, 14,  2,  3,  7,  5, 14, 13, 14,\n",
              "       11, 19, 11, 18,  9, 10,  4,  7,  1, 16, 11,  9, 11, 15,  3, 18, 14,\n",
              "        3, 10, 18, 12,  7,  9, 14, 15,  6,  8, 18,  4, 10, 19,  4,  3, 13,\n",
              "       13,  5, 19,  0, 18, 18, 13, 12,  5, 12,  0, 11,  6, 13,  7,  4,  9,\n",
              "        8, 13,  2,  1,  6,  8, 10,  1,  3, 14,  1, 18,  9,  9,  7,  8,  2,\n",
              "       18, 14,  9, 11,  6,  7,  9,  5, 10, 16,  3,  1,  8,  2, 17, 14,  2,\n",
              "       19, 11, 19, 12, 13, 18, 11, 11, 10,  0, 16, 13, 19, 10, 12, 17, 16,\n",
              "       12, 16,  8, 11,  5, 17, 11, 16,  6, 16, 11, 17,  4,  2,  9,  3, 12,\n",
              "       16,  3,  7,  0,  6, 19,  2,  1, 12, 15,  0,  2, 15, 16, 17,  5, 18,\n",
              "       10,  2, 18,  6, 12, 10, 12, 12, 19,  9,  5,  2, 12,  7,  1, 19, 17,\n",
              "       19,  9,  7, 12,  0, 10, 19, 19,  5,  7,  8,  7,  9,  3,  0,  8,  8,\n",
              "        2, 17, 18,  1, 12, 15, 14, 12, 14, 10, 17, 12, 16,  1, 18,  6, 18,\n",
              "        5,  7, 14, 12,  5,  0, 11,  0, 16, 15, 12,  7, 11,  2,  6,  4, 15,\n",
              "       17, 17, 14,  7,  0,  3, 11, 12,  1,  8,  5,  4, 17, 13, 19,  8,  8,\n",
              "       15, 14, 12, 15,  6, 11,  4,  6, 16, 18,  1, 19, 11, 18, 17,  2, 17,\n",
              "        1,  4, 17,  9,  6, 13, 10,  5, 12, 15, 10, 10, 10, 17,  0, 13, 13,\n",
              "       14, 10,  2,  3,  8,  7,  2,  6, 10, 14,  4, 10, 11, 13,  0,  2, 19,\n",
              "       15,  7,  4,  8, 15,  9, 17, 15, 12, 10, 19, 16,  1, 12, 17, 12,  1,\n",
              "        1, 16,  1,  4,  6,  4, 16,  8,  8, 18, 12,  3,  5,  2, 17,  8,  7,\n",
              "       14,  0,  2,  9,  4,  5,  0,  6, 14,  1,  6, 10, 15,  7, 15,  3,  3,\n",
              "        8, 15,  9,  1, 15,  5, 17, 13, 17, 13, 15,  5, 15, 15,  7, 16,  0,\n",
              "       10,  9,  7, 10,  6,  5,  3,  0,  0,  5,  5, 10,  3,  1,  1,  3,  2,\n",
              "        8,  6,  3, 19,  6, 14, 19, 13,  9, 10, 15, 14, 12,  8, 16,  1,  6,\n",
              "       16, 10, 11, 19,  1, 11, 15,  0,  1,  2, 13, 14,  9, 16,  5,  8,  2,\n",
              "        7,  5,  8,  7,  8,  0,  0,  7, 13, 19,  6, 13,  7, 17, 17, 17,  2,\n",
              "        8, 11, 10, 10, 14, 16, 13,  4, 18, 15,  6,  7, 10,  1, 11,  0,  7,\n",
              "        1, 16,  9, 10,  5,  3, 10,  7, 18,  9,  7, 17,  4,  1, 12,  6, 12,\n",
              "       18,  4,  0, 13,  9, 10,  9, 14, 18, 12, 17,  2, 19,  9, 11, 11, 15,\n",
              "        7, 10,  2,  4,  0, 16,  2,  0, 14,  4,  2,  1,  5, 11,  8,  5,  3,\n",
              "        7, 14, 19, 17,  9, 10, 12, 13,  6,  6, 11, 16,  1,  7, 16,  3, 19,\n",
              "       16, 11,  4,  8,  7,  4,  0, 15,  2,  8,  9, 15,  7,  8,  2,  0, 13,\n",
              "        6,  5,  9, 15,  3, 15,  2, 10, 12, 13,  5, 19,  5, 19, 16, 15, 15,\n",
              "        6,  8, 13, 15,  8,  1, 18, 14, 19,  2,  7,  5, 16, 14, 10, 15, 14,\n",
              "        1])"
            ]
          },
          "metadata": {},
          "execution_count": 176
        }
      ]
    },
    {
      "cell_type": "code",
      "metadata": {
        "colab": {
          "base_uri": "https://localhost:8080/"
        },
        "id": "Ru-8SqM4YBCt",
        "outputId": "95517171-1a45-49e4-c658-b96b0d495652"
      },
      "source": [
        "X_test.shape"
      ],
      "execution_count": 177,
      "outputs": [
        {
          "output_type": "execute_result",
          "data": {
            "text/plain": [
              "(200, 20)"
            ]
          },
          "metadata": {},
          "execution_count": 177
        }
      ]
    },
    {
      "cell_type": "code",
      "metadata": {
        "colab": {
          "base_uri": "https://localhost:8080/"
        },
        "id": "TL7csL17ZGU9",
        "outputId": "f5ffa63e-6095-4e13-81b1-12a3a670914a"
      },
      "source": [
        "y_test.shape"
      ],
      "execution_count": 178,
      "outputs": [
        {
          "output_type": "execute_result",
          "data": {
            "text/plain": [
              "(200,)"
            ]
          },
          "metadata": {},
          "execution_count": 178
        }
      ]
    },
    {
      "cell_type": "code",
      "metadata": {
        "colab": {
          "base_uri": "https://localhost:8080/"
        },
        "id": "uHRNJLu7nVCe",
        "outputId": "36758a60-5b1a-451b-8345-f654ae2b91dc"
      },
      "source": [
        "y_test"
      ],
      "execution_count": 179,
      "outputs": [
        {
          "output_type": "execute_result",
          "data": {
            "text/plain": [
              "array([ 2,  9, 11,  3, 18,  1, 12,  4, 15,  2, 17, 19,  9, 12,  2, 14, 11,\n",
              "        4, 17,  3,  3, 17,  1, 15, 17, 17, 18,  3,  8, 16,  7, 10, 19, 16,\n",
              "        2,  5, 19, 16, 14,  1, 17,  1,  6,  7,  3, 15,  4, 13,  7,  7, 11,\n",
              "       13,  1, 19,  7, 15, 19,  0,  5,  7, 16,  3, 15, 19,  3, 11, 12, 11,\n",
              "        0,  5,  5,  9,  4,  7,  0,  1,  8,  7,  8, 13,  6, 14,  9, 17, 18,\n",
              "       18,  6,  4,  4, 14, 11,  0,  9, 15,  2, 17, 18, 14, 17,  2,  7, 10,\n",
              "       14, 19,  9,  6,  0,  3, 14,  9, 18, 12, 10, 16,  8,  0, 13, 12,  4,\n",
              "        4,  7,  4,  5,  4,  8, 17, 17,  1,  0,  2, 13,  3,  9,  3, 13, 17,\n",
              "        9, 14,  4,  6, 13, 17, 12,  2, 15,  0,  3, 12, 16, 19,  4,  7,  6,\n",
              "        4, 10, 18, 11,  0,  6,  6,  1, 17,  9,  3,  1,  3, 12,  4, 16, 15,\n",
              "        9,  6,  5, 19,  2, 11, 19, 18, 12,  1, 18,  9, 19, 17,  8,  8, 18,\n",
              "       13, 17, 11, 14,  5,  7, 10, 11, 18, 15, 11,  6,  6])"
            ]
          },
          "metadata": {},
          "execution_count": 179
        }
      ]
    },
    {
      "cell_type": "markdown",
      "metadata": {
        "id": "Gex8V4UHI1t7"
      },
      "source": [
        "# Using KNN Classifier\n",
        "Best for numerical data that have distance based correlation"
      ]
    },
    {
      "cell_type": "code",
      "metadata": {
        "id": "As5lnug3y94q"
      },
      "source": [
        "from sklearn.neighbors import KNeighborsClassifier"
      ],
      "execution_count": 180,
      "outputs": []
    },
    {
      "cell_type": "code",
      "metadata": {
        "id": "NOhVPAZrz2So"
      },
      "source": [
        "k_range = range(1, 100)\n",
        "param_grid = dict(n_neighbors=k_range)"
      ],
      "execution_count": 181,
      "outputs": []
    },
    {
      "cell_type": "code",
      "metadata": {
        "id": "_eFQkSCKjbXw"
      },
      "source": [
        "from sklearn.model_selection import GridSearchCV\n",
        "\n",
        "knn = KNeighborsClassifier()\n",
        "search = GridSearchCV(knn, param_grid, n_jobs=-1)"
      ],
      "execution_count": 182,
      "outputs": []
    },
    {
      "cell_type": "code",
      "metadata": {
        "id": "lVFNKBDfkPlN"
      },
      "source": [
        "result = search.fit(X_train, y_train)"
      ],
      "execution_count": 183,
      "outputs": []
    },
    {
      "cell_type": "code",
      "metadata": {
        "colab": {
          "base_uri": "https://localhost:8080/"
        },
        "id": "T20zwRBjZZq4",
        "outputId": "7a7b0358-6b6d-4c69-c251-23e9df8a2f61"
      },
      "source": [
        "result.best_params_"
      ],
      "execution_count": 184,
      "outputs": [
        {
          "output_type": "execute_result",
          "data": {
            "text/plain": [
              "{'n_neighbors': 1}"
            ]
          },
          "metadata": {},
          "execution_count": 184
        }
      ]
    },
    {
      "cell_type": "markdown",
      "metadata": {
        "id": "E3BltQUJr9OK"
      },
      "source": [
        "## Train Eval"
      ]
    },
    {
      "cell_type": "code",
      "metadata": {
        "colab": {
          "base_uri": "https://localhost:8080/"
        },
        "id": "EgyBx8B7zcxs",
        "outputId": "f8488fd7-bbca-4c1e-d6a0-48bd9d225916"
      },
      "source": [
        "score = result.best_estimator_.score(X_test, y_test)\n",
        "print(score)"
      ],
      "execution_count": 185,
      "outputs": [
        {
          "output_type": "stream",
          "name": "stdout",
          "text": [
            "0.63\n"
          ]
        }
      ]
    },
    {
      "cell_type": "code",
      "metadata": {
        "colab": {
          "base_uri": "https://localhost:8080/"
        },
        "id": "jpjCISTnz1d7",
        "outputId": "6f80313a-6494-4c47-8e3d-af96aa2f8c00"
      },
      "source": [
        "pre = result.best_estimator_.predict([norm_dtws[78]])\n",
        "print(label[int(pre)])"
      ],
      "execution_count": 186,
      "outputs": [
        {
          "output_type": "stream",
          "name": "stdout",
          "text": [
            "Kaana\n"
          ]
        }
      ]
    },
    {
      "cell_type": "code",
      "metadata": {
        "colab": {
          "base_uri": "https://localhost:8080/"
        },
        "id": "PJlLVOPRdtgA",
        "outputId": "a850762d-5082-45bc-bf2f-abdb2e520774"
      },
      "source": [
        "print(label[all_labels[78]])"
      ],
      "execution_count": 187,
      "outputs": [
        {
          "output_type": "stream",
          "name": "stdout",
          "text": [
            "Kaana\n"
          ]
        }
      ]
    },
    {
      "cell_type": "markdown",
      "metadata": {
        "id": "vNL5FskZcuN1"
      },
      "source": [
        "## Save the model"
      ]
    },
    {
      "cell_type": "code",
      "metadata": {
        "colab": {
          "base_uri": "https://localhost:8080/"
        },
        "id": "kTungnU50Dgw",
        "outputId": "7c0eec0f-e0cb-475b-9ef4-b7fb3b17a8e7"
      },
      "source": [
        "import joblib\n",
        "\n",
        "filename = 'finalized_model.pkl'\n",
        "joblib.dump(result.best_estimator_, filename)"
      ],
      "execution_count": null,
      "outputs": [
        {
          "output_type": "execute_result",
          "data": {
            "text/plain": [
              "['finalized_model.pkl']"
            ]
          },
          "metadata": {},
          "execution_count": 55
        }
      ]
    },
    {
      "cell_type": "markdown",
      "metadata": {
        "id": "J6ru94VSWXGq"
      },
      "source": [
        "# Using DT\n",
        "(Optional Classification Algorithm to Use)"
      ]
    },
    {
      "cell_type": "code",
      "metadata": {
        "colab": {
          "base_uri": "https://localhost:8080/"
        },
        "id": "6lTuDj1pWDnI",
        "outputId": "53e05991-c64f-4547-bdf9-84c6ae30a5ab"
      },
      "source": [
        "from sklearn.tree import DecisionTreeClassifier\n",
        "\n",
        "dt = DecisionTreeClassifier()\n",
        "dt.fit(X_train, y_train)"
      ],
      "execution_count": null,
      "outputs": [
        {
          "output_type": "execute_result",
          "data": {
            "text/plain": [
              "DecisionTreeClassifier()"
            ]
          },
          "metadata": {},
          "execution_count": 69
        }
      ]
    },
    {
      "cell_type": "code",
      "metadata": {
        "colab": {
          "base_uri": "https://localhost:8080/"
        },
        "id": "81uDczkWWfHx",
        "outputId": "0d55599c-4e6d-478b-95d0-e93a1717fed5"
      },
      "source": [
        "dt.score(X_test, y_test)"
      ],
      "execution_count": null,
      "outputs": [
        {
          "output_type": "execute_result",
          "data": {
            "text/plain": [
              "0.4"
            ]
          },
          "metadata": {},
          "execution_count": 70
        }
      ]
    },
    {
      "cell_type": "code",
      "metadata": {
        "colab": {
          "base_uri": "https://localhost:8080/"
        },
        "id": "fdcwBTG3X4_t",
        "outputId": "bc92f609-7ccd-441d-dc98-ea827a88186d"
      },
      "source": [
        "from sklearn import tree\n",
        "\n",
        "text_representation = tree.export_text(dt)\n",
        "print(text_representation)"
      ],
      "execution_count": null,
      "outputs": [
        {
          "output_type": "stream",
          "name": "stdout",
          "text": [
            "|--- feature_8 <= 32511.69\n",
            "|   |--- feature_13 <= 40363.04\n",
            "|   |   |--- feature_7 <= 22010.63\n",
            "|   |   |   |--- feature_4 <= 27198.96\n",
            "|   |   |   |   |--- feature_0 <= 26191.33\n",
            "|   |   |   |   |   |--- feature_8 <= 26097.62\n",
            "|   |   |   |   |   |   |--- class: 7\n",
            "|   |   |   |   |   |--- feature_8 >  26097.62\n",
            "|   |   |   |   |   |   |--- feature_15 <= 32113.31\n",
            "|   |   |   |   |   |   |   |--- feature_8 <= 31388.36\n",
            "|   |   |   |   |   |   |   |   |--- feature_10 <= 13764.65\n",
            "|   |   |   |   |   |   |   |   |   |--- feature_14 <= 21473.70\n",
            "|   |   |   |   |   |   |   |   |   |   |--- class: 9\n",
            "|   |   |   |   |   |   |   |   |   |--- feature_14 >  21473.70\n",
            "|   |   |   |   |   |   |   |   |   |   |--- class: 7\n",
            "|   |   |   |   |   |   |   |   |--- feature_10 >  13764.65\n",
            "|   |   |   |   |   |   |   |   |   |--- feature_19 <= 29927.53\n",
            "|   |   |   |   |   |   |   |   |   |   |--- class: 8\n",
            "|   |   |   |   |   |   |   |   |   |--- feature_19 >  29927.53\n",
            "|   |   |   |   |   |   |   |   |   |   |--- feature_2 <= 21601.78\n",
            "|   |   |   |   |   |   |   |   |   |   |   |--- class: 8\n",
            "|   |   |   |   |   |   |   |   |   |   |--- feature_2 >  21601.78\n",
            "|   |   |   |   |   |   |   |   |   |   |   |--- class: 9\n",
            "|   |   |   |   |   |   |   |--- feature_8 >  31388.36\n",
            "|   |   |   |   |   |   |   |   |--- feature_19 <= 29523.81\n",
            "|   |   |   |   |   |   |   |   |   |--- feature_7 <= 20490.70\n",
            "|   |   |   |   |   |   |   |   |   |   |--- feature_12 <= 23237.66\n",
            "|   |   |   |   |   |   |   |   |   |   |   |--- class: 6\n",
            "|   |   |   |   |   |   |   |   |   |   |--- feature_12 >  23237.66\n",
            "|   |   |   |   |   |   |   |   |   |   |   |--- class: 5\n",
            "|   |   |   |   |   |   |   |   |   |--- feature_7 >  20490.70\n",
            "|   |   |   |   |   |   |   |   |   |   |--- class: 19\n",
            "|   |   |   |   |   |   |   |   |--- feature_19 >  29523.81\n",
            "|   |   |   |   |   |   |   |   |   |--- feature_1 <= 22156.18\n",
            "|   |   |   |   |   |   |   |   |   |   |--- class: 7\n",
            "|   |   |   |   |   |   |   |   |   |--- feature_1 >  22156.18\n",
            "|   |   |   |   |   |   |   |   |   |   |--- feature_13 <= 29426.73\n",
            "|   |   |   |   |   |   |   |   |   |   |   |--- class: 11\n",
            "|   |   |   |   |   |   |   |   |   |   |--- feature_13 >  29426.73\n",
            "|   |   |   |   |   |   |   |   |   |   |   |--- class: 9\n",
            "|   |   |   |   |   |   |--- feature_15 >  32113.31\n",
            "|   |   |   |   |   |   |   |--- feature_3 <= 24866.49\n",
            "|   |   |   |   |   |   |   |   |--- class: 7\n",
            "|   |   |   |   |   |   |   |--- feature_3 >  24866.49\n",
            "|   |   |   |   |   |   |   |   |--- feature_17 <= 35192.37\n",
            "|   |   |   |   |   |   |   |   |   |--- class: 13\n",
            "|   |   |   |   |   |   |   |   |--- feature_17 >  35192.37\n",
            "|   |   |   |   |   |   |   |   |   |--- class: 7\n",
            "|   |   |   |   |--- feature_0 >  26191.33\n",
            "|   |   |   |   |   |--- class: 8\n",
            "|   |   |   |--- feature_4 >  27198.96\n",
            "|   |   |   |   |--- feature_7 <= 21240.88\n",
            "|   |   |   |   |   |--- feature_5 <= 24665.95\n",
            "|   |   |   |   |   |   |--- feature_4 <= 27425.91\n",
            "|   |   |   |   |   |   |   |--- class: 13\n",
            "|   |   |   |   |   |   |--- feature_4 >  27425.91\n",
            "|   |   |   |   |   |   |   |--- class: 7\n",
            "|   |   |   |   |   |--- feature_5 >  24665.95\n",
            "|   |   |   |   |   |   |--- feature_7 <= 17292.41\n",
            "|   |   |   |   |   |   |   |--- class: 7\n",
            "|   |   |   |   |   |   |--- feature_7 >  17292.41\n",
            "|   |   |   |   |   |   |   |--- feature_18 <= 30728.62\n",
            "|   |   |   |   |   |   |   |   |--- class: 8\n",
            "|   |   |   |   |   |   |   |--- feature_18 >  30728.62\n",
            "|   |   |   |   |   |   |   |   |--- class: 13\n",
            "|   |   |   |   |--- feature_7 >  21240.88\n",
            "|   |   |   |   |   |--- class: 7\n",
            "|   |   |--- feature_7 >  22010.63\n",
            "|   |   |   |--- feature_15 <= 37857.67\n",
            "|   |   |   |   |--- feature_19 <= 30706.93\n",
            "|   |   |   |   |   |--- feature_15 <= 28071.76\n",
            "|   |   |   |   |   |   |--- feature_1 <= 21663.21\n",
            "|   |   |   |   |   |   |   |--- feature_8 <= 30929.29\n",
            "|   |   |   |   |   |   |   |   |--- class: 19\n",
            "|   |   |   |   |   |   |   |--- feature_8 >  30929.29\n",
            "|   |   |   |   |   |   |   |   |--- class: 5\n",
            "|   |   |   |   |   |   |--- feature_1 >  21663.21\n",
            "|   |   |   |   |   |   |   |--- class: 18\n",
            "|   |   |   |   |   |--- feature_15 >  28071.76\n",
            "|   |   |   |   |   |   |--- feature_18 <= 28045.85\n",
            "|   |   |   |   |   |   |   |--- feature_4 <= 23768.26\n",
            "|   |   |   |   |   |   |   |   |--- class: 19\n",
            "|   |   |   |   |   |   |   |--- feature_4 >  23768.26\n",
            "|   |   |   |   |   |   |   |   |--- class: 16\n",
            "|   |   |   |   |   |   |--- feature_18 >  28045.85\n",
            "|   |   |   |   |   |   |   |--- class: 19\n",
            "|   |   |   |   |--- feature_19 >  30706.93\n",
            "|   |   |   |   |   |--- feature_1 <= 27402.97\n",
            "|   |   |   |   |   |   |--- feature_2 <= 26794.23\n",
            "|   |   |   |   |   |   |   |--- feature_10 <= 28101.91\n",
            "|   |   |   |   |   |   |   |   |--- feature_5 <= 24955.88\n",
            "|   |   |   |   |   |   |   |   |   |--- feature_19 <= 31117.13\n",
            "|   |   |   |   |   |   |   |   |   |   |--- class: 17\n",
            "|   |   |   |   |   |   |   |   |   |--- feature_19 >  31117.13\n",
            "|   |   |   |   |   |   |   |   |   |   |--- class: 5\n",
            "|   |   |   |   |   |   |   |   |--- feature_5 >  24955.88\n",
            "|   |   |   |   |   |   |   |   |   |--- feature_1 <= 23832.66\n",
            "|   |   |   |   |   |   |   |   |   |   |--- class: 9\n",
            "|   |   |   |   |   |   |   |   |   |--- feature_1 >  23832.66\n",
            "|   |   |   |   |   |   |   |   |   |   |--- feature_12 <= 27624.03\n",
            "|   |   |   |   |   |   |   |   |   |   |   |--- class: 10\n",
            "|   |   |   |   |   |   |   |   |   |   |--- feature_12 >  27624.03\n",
            "|   |   |   |   |   |   |   |   |   |   |   |--- truncated branch of depth 9\n",
            "|   |   |   |   |   |   |   |--- feature_10 >  28101.91\n",
            "|   |   |   |   |   |   |   |   |--- feature_1 <= 26596.97\n",
            "|   |   |   |   |   |   |   |   |   |--- class: 5\n",
            "|   |   |   |   |   |   |   |   |--- feature_1 >  26596.97\n",
            "|   |   |   |   |   |   |   |   |   |--- class: 6\n",
            "|   |   |   |   |   |   |--- feature_2 >  26794.23\n",
            "|   |   |   |   |   |   |   |--- class: 9\n",
            "|   |   |   |   |   |--- feature_1 >  27402.97\n",
            "|   |   |   |   |   |   |--- feature_4 <= 28057.37\n",
            "|   |   |   |   |   |   |   |--- feature_13 <= 38098.82\n",
            "|   |   |   |   |   |   |   |   |--- feature_14 <= 36351.57\n",
            "|   |   |   |   |   |   |   |   |   |--- class: 4\n",
            "|   |   |   |   |   |   |   |   |--- feature_14 >  36351.57\n",
            "|   |   |   |   |   |   |   |   |   |--- class: 6\n",
            "|   |   |   |   |   |   |   |--- feature_13 >  38098.82\n",
            "|   |   |   |   |   |   |   |   |--- class: 6\n",
            "|   |   |   |   |   |   |--- feature_4 >  28057.37\n",
            "|   |   |   |   |   |   |   |--- feature_16 <= 33622.07\n",
            "|   |   |   |   |   |   |   |   |--- feature_17 <= 34672.29\n",
            "|   |   |   |   |   |   |   |   |   |--- feature_14 <= 28751.30\n",
            "|   |   |   |   |   |   |   |   |   |   |--- class: 14\n",
            "|   |   |   |   |   |   |   |   |   |--- feature_14 >  28751.30\n",
            "|   |   |   |   |   |   |   |   |   |   |--- feature_16 <= 29858.22\n",
            "|   |   |   |   |   |   |   |   |   |   |   |--- class: 18\n",
            "|   |   |   |   |   |   |   |   |   |   |--- feature_16 >  29858.22\n",
            "|   |   |   |   |   |   |   |   |   |   |   |--- truncated branch of depth 4\n",
            "|   |   |   |   |   |   |   |   |--- feature_17 >  34672.29\n",
            "|   |   |   |   |   |   |   |   |   |--- feature_0 <= 27348.23\n",
            "|   |   |   |   |   |   |   |   |   |   |--- class: 15\n",
            "|   |   |   |   |   |   |   |   |   |--- feature_0 >  27348.23\n",
            "|   |   |   |   |   |   |   |   |   |   |--- class: 16\n",
            "|   |   |   |   |   |   |   |--- feature_16 >  33622.07\n",
            "|   |   |   |   |   |   |   |   |--- feature_11 <= 36291.32\n",
            "|   |   |   |   |   |   |   |   |   |--- feature_7 <= 27601.04\n",
            "|   |   |   |   |   |   |   |   |   |   |--- class: 7\n",
            "|   |   |   |   |   |   |   |   |   |--- feature_7 >  27601.04\n",
            "|   |   |   |   |   |   |   |   |   |   |--- feature_8 <= 30540.33\n",
            "|   |   |   |   |   |   |   |   |   |   |   |--- truncated branch of depth 4\n",
            "|   |   |   |   |   |   |   |   |   |   |--- feature_8 >  30540.33\n",
            "|   |   |   |   |   |   |   |   |   |   |   |--- class: 10\n",
            "|   |   |   |   |   |   |   |   |--- feature_11 >  36291.32\n",
            "|   |   |   |   |   |   |   |   |   |--- class: 19\n",
            "|   |   |   |--- feature_15 >  37857.67\n",
            "|   |   |   |   |--- feature_11 <= 35484.00\n",
            "|   |   |   |   |   |--- feature_7 <= 27772.25\n",
            "|   |   |   |   |   |   |--- class: 7\n",
            "|   |   |   |   |   |--- feature_7 >  27772.25\n",
            "|   |   |   |   |   |   |--- feature_1 <= 34945.72\n",
            "|   |   |   |   |   |   |   |--- class: 12\n",
            "|   |   |   |   |   |   |--- feature_1 >  34945.72\n",
            "|   |   |   |   |   |   |   |--- class: 10\n",
            "|   |   |   |   |--- feature_11 >  35484.00\n",
            "|   |   |   |   |   |--- feature_13 <= 38084.30\n",
            "|   |   |   |   |   |   |--- class: 6\n",
            "|   |   |   |   |   |--- feature_13 >  38084.30\n",
            "|   |   |   |   |   |   |--- class: 8\n",
            "|   |--- feature_13 >  40363.04\n",
            "|   |   |--- feature_10 <= 32038.46\n",
            "|   |   |   |--- feature_11 <= 39534.63\n",
            "|   |   |   |   |--- feature_9 <= 26180.93\n",
            "|   |   |   |   |   |--- feature_9 <= 25587.40\n",
            "|   |   |   |   |   |   |--- class: 7\n",
            "|   |   |   |   |   |--- feature_9 >  25587.40\n",
            "|   |   |   |   |   |   |--- class: 8\n",
            "|   |   |   |   |--- feature_9 >  26180.93\n",
            "|   |   |   |   |   |--- feature_6 <= 31178.17\n",
            "|   |   |   |   |   |   |--- class: 7\n",
            "|   |   |   |   |   |--- feature_6 >  31178.17\n",
            "|   |   |   |   |   |   |--- feature_5 <= 31960.28\n",
            "|   |   |   |   |   |   |   |--- class: 13\n",
            "|   |   |   |   |   |   |--- feature_5 >  31960.28\n",
            "|   |   |   |   |   |   |   |--- class: 7\n",
            "|   |   |   |--- feature_11 >  39534.63\n",
            "|   |   |   |   |--- feature_12 <= 39065.94\n",
            "|   |   |   |   |   |--- class: 13\n",
            "|   |   |   |   |--- feature_12 >  39065.94\n",
            "|   |   |   |   |   |--- feature_7 <= 25289.33\n",
            "|   |   |   |   |   |   |--- class: 7\n",
            "|   |   |   |   |   |--- feature_7 >  25289.33\n",
            "|   |   |   |   |   |   |--- class: 8\n",
            "|   |   |--- feature_10 >  32038.46\n",
            "|   |   |   |--- feature_19 <= 41386.30\n",
            "|   |   |   |   |--- class: 8\n",
            "|   |   |   |--- feature_19 >  41386.30\n",
            "|   |   |   |   |--- class: 13\n",
            "|--- feature_8 >  32511.69\n",
            "|   |--- feature_15 <= 31135.87\n",
            "|   |   |--- feature_1 <= 21773.21\n",
            "|   |   |   |--- feature_8 <= 36774.00\n",
            "|   |   |   |   |--- feature_14 <= 21699.95\n",
            "|   |   |   |   |   |--- feature_16 <= 18854.11\n",
            "|   |   |   |   |   |   |--- class: 3\n",
            "|   |   |   |   |   |--- feature_16 >  18854.11\n",
            "|   |   |   |   |   |   |--- feature_19 <= 21133.21\n",
            "|   |   |   |   |   |   |   |--- class: 5\n",
            "|   |   |   |   |   |   |--- feature_19 >  21133.21\n",
            "|   |   |   |   |   |   |   |--- class: 4\n",
            "|   |   |   |   |--- feature_14 >  21699.95\n",
            "|   |   |   |   |   |--- feature_4 <= 25967.40\n",
            "|   |   |   |   |   |   |--- class: 1\n",
            "|   |   |   |   |   |--- feature_4 >  25967.40\n",
            "|   |   |   |   |   |   |--- class: 5\n",
            "|   |   |   |--- feature_8 >  36774.00\n",
            "|   |   |   |   |--- class: 0\n",
            "|   |   |--- feature_1 >  21773.21\n",
            "|   |   |   |--- feature_13 <= 32896.87\n",
            "|   |   |   |   |--- feature_12 <= 30489.68\n",
            "|   |   |   |   |   |--- feature_16 <= 29187.07\n",
            "|   |   |   |   |   |   |--- feature_5 <= 26852.33\n",
            "|   |   |   |   |   |   |   |--- feature_0 <= 23976.88\n",
            "|   |   |   |   |   |   |   |   |--- feature_17 <= 30349.57\n",
            "|   |   |   |   |   |   |   |   |   |--- feature_12 <= 28926.64\n",
            "|   |   |   |   |   |   |   |   |   |   |--- feature_7 <= 21275.71\n",
            "|   |   |   |   |   |   |   |   |   |   |   |--- truncated branch of depth 6\n",
            "|   |   |   |   |   |   |   |   |   |   |--- feature_7 >  21275.71\n",
            "|   |   |   |   |   |   |   |   |   |   |   |--- class: 15\n",
            "|   |   |   |   |   |   |   |   |   |--- feature_12 >  28926.64\n",
            "|   |   |   |   |   |   |   |   |   |   |--- class: 14\n",
            "|   |   |   |   |   |   |   |   |--- feature_17 >  30349.57\n",
            "|   |   |   |   |   |   |   |   |   |--- class: 0\n",
            "|   |   |   |   |   |   |   |--- feature_0 >  23976.88\n",
            "|   |   |   |   |   |   |   |   |--- feature_11 <= 31869.90\n",
            "|   |   |   |   |   |   |   |   |   |--- feature_14 <= 14682.57\n",
            "|   |   |   |   |   |   |   |   |   |   |--- class: 17\n",
            "|   |   |   |   |   |   |   |   |   |--- feature_14 >  14682.57\n",
            "|   |   |   |   |   |   |   |   |   |   |--- class: 19\n",
            "|   |   |   |   |   |   |   |   |--- feature_11 >  31869.90\n",
            "|   |   |   |   |   |   |   |   |   |--- feature_1 <= 25570.16\n",
            "|   |   |   |   |   |   |   |   |   |   |--- class: 16\n",
            "|   |   |   |   |   |   |   |   |   |--- feature_1 >  25570.16\n",
            "|   |   |   |   |   |   |   |   |   |   |--- class: 15\n",
            "|   |   |   |   |   |   |--- feature_5 >  26852.33\n",
            "|   |   |   |   |   |   |   |--- feature_3 <= 26517.04\n",
            "|   |   |   |   |   |   |   |   |--- feature_16 <= 28506.15\n",
            "|   |   |   |   |   |   |   |   |   |--- class: 16\n",
            "|   |   |   |   |   |   |   |   |--- feature_16 >  28506.15\n",
            "|   |   |   |   |   |   |   |   |   |--- class: 12\n",
            "|   |   |   |   |   |   |   |--- feature_3 >  26517.04\n",
            "|   |   |   |   |   |   |   |   |--- feature_2 <= 24882.94\n",
            "|   |   |   |   |   |   |   |   |   |--- class: 0\n",
            "|   |   |   |   |   |   |   |   |--- feature_2 >  24882.94\n",
            "|   |   |   |   |   |   |   |   |   |--- feature_10 <= 27988.21\n",
            "|   |   |   |   |   |   |   |   |   |   |--- class: 15\n",
            "|   |   |   |   |   |   |   |   |   |--- feature_10 >  27988.21\n",
            "|   |   |   |   |   |   |   |   |   |   |--- class: 18\n",
            "|   |   |   |   |   |--- feature_16 >  29187.07\n",
            "|   |   |   |   |   |   |--- class: 11\n",
            "|   |   |   |   |--- feature_12 >  30489.68\n",
            "|   |   |   |   |   |--- feature_14 <= 27859.43\n",
            "|   |   |   |   |   |   |--- feature_13 <= 32748.12\n",
            "|   |   |   |   |   |   |   |--- feature_17 <= 27422.68\n",
            "|   |   |   |   |   |   |   |   |--- class: 17\n",
            "|   |   |   |   |   |   |   |--- feature_17 >  27422.68\n",
            "|   |   |   |   |   |   |   |   |--- class: 14\n",
            "|   |   |   |   |   |   |--- feature_13 >  32748.12\n",
            "|   |   |   |   |   |   |   |--- class: 16\n",
            "|   |   |   |   |   |--- feature_14 >  27859.43\n",
            "|   |   |   |   |   |   |--- feature_15 <= 30874.56\n",
            "|   |   |   |   |   |   |   |--- feature_12 <= 31346.87\n",
            "|   |   |   |   |   |   |   |   |--- class: 16\n",
            "|   |   |   |   |   |   |   |--- feature_12 >  31346.87\n",
            "|   |   |   |   |   |   |   |   |--- feature_11 <= 32333.69\n",
            "|   |   |   |   |   |   |   |   |   |--- class: 0\n",
            "|   |   |   |   |   |   |   |   |--- feature_11 >  32333.69\n",
            "|   |   |   |   |   |   |   |   |   |--- class: 4\n",
            "|   |   |   |   |   |   |--- feature_15 >  30874.56\n",
            "|   |   |   |   |   |   |   |--- class: 3\n",
            "|   |   |   |--- feature_13 >  32896.87\n",
            "|   |   |   |   |--- feature_15 <= 27708.63\n",
            "|   |   |   |   |   |--- feature_18 <= 24947.03\n",
            "|   |   |   |   |   |   |--- class: 16\n",
            "|   |   |   |   |   |--- feature_18 >  24947.03\n",
            "|   |   |   |   |   |   |--- feature_17 <= 27117.75\n",
            "|   |   |   |   |   |   |   |--- class: 17\n",
            "|   |   |   |   |   |   |--- feature_17 >  27117.75\n",
            "|   |   |   |   |   |   |   |--- class: 15\n",
            "|   |   |   |   |--- feature_15 >  27708.63\n",
            "|   |   |   |   |   |--- feature_19 <= 32756.67\n",
            "|   |   |   |   |   |   |--- feature_17 <= 29826.96\n",
            "|   |   |   |   |   |   |   |--- feature_12 <= 30760.73\n",
            "|   |   |   |   |   |   |   |   |--- feature_18 <= 28473.00\n",
            "|   |   |   |   |   |   |   |   |   |--- class: 9\n",
            "|   |   |   |   |   |   |   |   |--- feature_18 >  28473.00\n",
            "|   |   |   |   |   |   |   |   |   |--- class: 18\n",
            "|   |   |   |   |   |   |   |--- feature_12 >  30760.73\n",
            "|   |   |   |   |   |   |   |   |--- feature_14 <= 25993.25\n",
            "|   |   |   |   |   |   |   |   |   |--- class: 14\n",
            "|   |   |   |   |   |   |   |   |--- feature_14 >  25993.25\n",
            "|   |   |   |   |   |   |   |   |   |--- class: 17\n",
            "|   |   |   |   |   |   |--- feature_17 >  29826.96\n",
            "|   |   |   |   |   |   |   |--- feature_16 <= 29488.11\n",
            "|   |   |   |   |   |   |   |   |--- feature_13 <= 34018.62\n",
            "|   |   |   |   |   |   |   |   |   |--- feature_12 <= 30261.56\n",
            "|   |   |   |   |   |   |   |   |   |   |--- feature_13 <= 33233.52\n",
            "|   |   |   |   |   |   |   |   |   |   |   |--- class: 18\n",
            "|   |   |   |   |   |   |   |   |   |   |--- feature_13 >  33233.52\n",
            "|   |   |   |   |   |   |   |   |   |   |   |--- class: 0\n",
            "|   |   |   |   |   |   |   |   |   |--- feature_12 >  30261.56\n",
            "|   |   |   |   |   |   |   |   |   |   |--- feature_5 <= 26729.57\n",
            "|   |   |   |   |   |   |   |   |   |   |   |--- class: 19\n",
            "|   |   |   |   |   |   |   |   |   |   |--- feature_5 >  26729.57\n",
            "|   |   |   |   |   |   |   |   |   |   |   |--- class: 16\n",
            "|   |   |   |   |   |   |   |   |--- feature_13 >  34018.62\n",
            "|   |   |   |   |   |   |   |   |   |--- feature_19 <= 29010.00\n",
            "|   |   |   |   |   |   |   |   |   |   |--- class: 19\n",
            "|   |   |   |   |   |   |   |   |   |--- feature_19 >  29010.00\n",
            "|   |   |   |   |   |   |   |   |   |   |--- feature_3 <= 31062.73\n",
            "|   |   |   |   |   |   |   |   |   |   |   |--- truncated branch of depth 2\n",
            "|   |   |   |   |   |   |   |   |   |   |--- feature_3 >  31062.73\n",
            "|   |   |   |   |   |   |   |   |   |   |   |--- class: 0\n",
            "|   |   |   |   |   |   |   |--- feature_16 >  29488.11\n",
            "|   |   |   |   |   |   |   |   |--- class: 14\n",
            "|   |   |   |   |   |--- feature_19 >  32756.67\n",
            "|   |   |   |   |   |   |--- feature_0 <= 25021.09\n",
            "|   |   |   |   |   |   |   |--- class: 15\n",
            "|   |   |   |   |   |   |--- feature_0 >  25021.09\n",
            "|   |   |   |   |   |   |   |--- feature_15 <= 30663.43\n",
            "|   |   |   |   |   |   |   |   |--- class: 11\n",
            "|   |   |   |   |   |   |   |--- feature_15 >  30663.43\n",
            "|   |   |   |   |   |   |   |   |--- class: 17\n",
            "|   |--- feature_15 >  31135.87\n",
            "|   |   |--- feature_13 <= 29306.69\n",
            "|   |   |   |--- class: 12\n",
            "|   |   |--- feature_13 >  29306.69\n",
            "|   |   |   |--- feature_1 <= 29620.11\n",
            "|   |   |   |   |--- feature_3 <= 24116.38\n",
            "|   |   |   |   |   |--- feature_19 <= 29994.62\n",
            "|   |   |   |   |   |   |--- class: 8\n",
            "|   |   |   |   |   |--- feature_19 >  29994.62\n",
            "|   |   |   |   |   |   |--- feature_8 <= 36607.07\n",
            "|   |   |   |   |   |   |   |--- feature_6 <= 22898.98\n",
            "|   |   |   |   |   |   |   |   |--- feature_12 <= 30919.52\n",
            "|   |   |   |   |   |   |   |   |   |--- class: 6\n",
            "|   |   |   |   |   |   |   |   |--- feature_12 >  30919.52\n",
            "|   |   |   |   |   |   |   |   |   |--- class: 4\n",
            "|   |   |   |   |   |   |   |--- feature_6 >  22898.98\n",
            "|   |   |   |   |   |   |   |   |--- feature_13 <= 31203.17\n",
            "|   |   |   |   |   |   |   |   |   |--- class: 9\n",
            "|   |   |   |   |   |   |   |   |--- feature_13 >  31203.17\n",
            "|   |   |   |   |   |   |   |   |   |--- class: 3\n",
            "|   |   |   |   |   |   |--- feature_8 >  36607.07\n",
            "|   |   |   |   |   |   |   |--- feature_3 <= 23887.00\n",
            "|   |   |   |   |   |   |   |   |--- class: 3\n",
            "|   |   |   |   |   |   |   |--- feature_3 >  23887.00\n",
            "|   |   |   |   |   |   |   |   |--- class: 4\n",
            "|   |   |   |   |--- feature_3 >  24116.38\n",
            "|   |   |   |   |   |--- feature_8 <= 38152.40\n",
            "|   |   |   |   |   |   |--- feature_10 <= 32275.33\n",
            "|   |   |   |   |   |   |   |--- feature_5 <= 23847.29\n",
            "|   |   |   |   |   |   |   |   |--- class: 5\n",
            "|   |   |   |   |   |   |   |--- feature_5 >  23847.29\n",
            "|   |   |   |   |   |   |   |   |--- feature_11 <= 32523.29\n",
            "|   |   |   |   |   |   |   |   |   |--- feature_3 <= 27003.28\n",
            "|   |   |   |   |   |   |   |   |   |   |--- feature_19 <= 34125.68\n",
            "|   |   |   |   |   |   |   |   |   |   |   |--- truncated branch of depth 4\n",
            "|   |   |   |   |   |   |   |   |   |   |--- feature_19 >  34125.68\n",
            "|   |   |   |   |   |   |   |   |   |   |   |--- class: 9\n",
            "|   |   |   |   |   |   |   |   |   |--- feature_3 >  27003.28\n",
            "|   |   |   |   |   |   |   |   |   |   |--- feature_15 <= 31859.07\n",
            "|   |   |   |   |   |   |   |   |   |   |   |--- truncated branch of depth 2\n",
            "|   |   |   |   |   |   |   |   |   |   |--- feature_15 >  31859.07\n",
            "|   |   |   |   |   |   |   |   |   |   |   |--- truncated branch of depth 2\n",
            "|   |   |   |   |   |   |   |   |--- feature_11 >  32523.29\n",
            "|   |   |   |   |   |   |   |   |   |--- feature_12 <= 37336.99\n",
            "|   |   |   |   |   |   |   |   |   |   |--- feature_14 <= 31052.52\n",
            "|   |   |   |   |   |   |   |   |   |   |   |--- truncated branch of depth 3\n",
            "|   |   |   |   |   |   |   |   |   |   |--- feature_14 >  31052.52\n",
            "|   |   |   |   |   |   |   |   |   |   |   |--- truncated branch of depth 10\n",
            "|   |   |   |   |   |   |   |   |   |--- feature_12 >  37336.99\n",
            "|   |   |   |   |   |   |   |   |   |   |--- feature_12 <= 38015.85\n",
            "|   |   |   |   |   |   |   |   |   |   |   |--- truncated branch of depth 2\n",
            "|   |   |   |   |   |   |   |   |   |   |--- feature_12 >  38015.85\n",
            "|   |   |   |   |   |   |   |   |   |   |   |--- truncated branch of depth 3\n",
            "|   |   |   |   |   |   |--- feature_10 >  32275.33\n",
            "|   |   |   |   |   |   |   |--- class: 5\n",
            "|   |   |   |   |   |--- feature_8 >  38152.40\n",
            "|   |   |   |   |   |   |--- feature_0 <= 22087.23\n",
            "|   |   |   |   |   |   |   |--- feature_4 <= 23533.61\n",
            "|   |   |   |   |   |   |   |   |--- class: 2\n",
            "|   |   |   |   |   |   |   |--- feature_4 >  23533.61\n",
            "|   |   |   |   |   |   |   |   |--- class: 0\n",
            "|   |   |   |   |   |   |--- feature_0 >  22087.23\n",
            "|   |   |   |   |   |   |   |--- feature_1 <= 23303.20\n",
            "|   |   |   |   |   |   |   |   |--- feature_13 <= 33967.50\n",
            "|   |   |   |   |   |   |   |   |   |--- class: 2\n",
            "|   |   |   |   |   |   |   |   |--- feature_13 >  33967.50\n",
            "|   |   |   |   |   |   |   |   |   |--- feature_12 <= 35367.38\n",
            "|   |   |   |   |   |   |   |   |   |   |--- class: 1\n",
            "|   |   |   |   |   |   |   |   |   |--- feature_12 >  35367.38\n",
            "|   |   |   |   |   |   |   |   |   |   |--- class: 5\n",
            "|   |   |   |   |   |   |   |--- feature_1 >  23303.20\n",
            "|   |   |   |   |   |   |   |   |--- feature_2 <= 24852.98\n",
            "|   |   |   |   |   |   |   |   |   |--- feature_4 <= 24119.05\n",
            "|   |   |   |   |   |   |   |   |   |   |--- class: 4\n",
            "|   |   |   |   |   |   |   |   |   |--- feature_4 >  24119.05\n",
            "|   |   |   |   |   |   |   |   |   |   |--- feature_13 <= 38544.49\n",
            "|   |   |   |   |   |   |   |   |   |   |   |--- class: 2\n",
            "|   |   |   |   |   |   |   |   |   |   |--- feature_13 >  38544.49\n",
            "|   |   |   |   |   |   |   |   |   |   |   |--- class: 5\n",
            "|   |   |   |   |   |   |   |   |--- feature_2 >  24852.98\n",
            "|   |   |   |   |   |   |   |   |   |--- feature_0 <= 25271.90\n",
            "|   |   |   |   |   |   |   |   |   |   |--- feature_13 <= 33882.89\n",
            "|   |   |   |   |   |   |   |   |   |   |   |--- class: 19\n",
            "|   |   |   |   |   |   |   |   |   |   |--- feature_13 >  33882.89\n",
            "|   |   |   |   |   |   |   |   |   |   |   |--- class: 0\n",
            "|   |   |   |   |   |   |   |   |   |--- feature_0 >  25271.90\n",
            "|   |   |   |   |   |   |   |   |   |   |--- feature_7 <= 27975.38\n",
            "|   |   |   |   |   |   |   |   |   |   |   |--- truncated branch of depth 2\n",
            "|   |   |   |   |   |   |   |   |   |   |--- feature_7 >  27975.38\n",
            "|   |   |   |   |   |   |   |   |   |   |   |--- truncated branch of depth 7\n",
            "|   |   |   |--- feature_1 >  29620.11\n",
            "|   |   |   |   |--- feature_8 <= 35824.14\n",
            "|   |   |   |   |   |--- feature_7 <= 37405.14\n",
            "|   |   |   |   |   |   |--- feature_15 <= 43138.16\n",
            "|   |   |   |   |   |   |   |--- feature_13 <= 33045.54\n",
            "|   |   |   |   |   |   |   |   |--- class: 10\n",
            "|   |   |   |   |   |   |   |--- feature_13 >  33045.54\n",
            "|   |   |   |   |   |   |   |   |--- feature_7 <= 25285.00\n",
            "|   |   |   |   |   |   |   |   |   |--- feature_6 <= 29072.23\n",
            "|   |   |   |   |   |   |   |   |   |   |--- class: 9\n",
            "|   |   |   |   |   |   |   |   |   |--- feature_6 >  29072.23\n",
            "|   |   |   |   |   |   |   |   |   |   |--- class: 7\n",
            "|   |   |   |   |   |   |   |   |--- feature_7 >  25285.00\n",
            "|   |   |   |   |   |   |   |   |   |--- feature_14 <= 35348.29\n",
            "|   |   |   |   |   |   |   |   |   |   |--- feature_0 <= 28679.79\n",
            "|   |   |   |   |   |   |   |   |   |   |   |--- truncated branch of depth 2\n",
            "|   |   |   |   |   |   |   |   |   |   |--- feature_0 >  28679.79\n",
            "|   |   |   |   |   |   |   |   |   |   |   |--- class: 14\n",
            "|   |   |   |   |   |   |   |   |   |--- feature_14 >  35348.29\n",
            "|   |   |   |   |   |   |   |   |   |   |--- feature_10 <= 33340.06\n",
            "|   |   |   |   |   |   |   |   |   |   |   |--- truncated branch of depth 6\n",
            "|   |   |   |   |   |   |   |   |   |   |--- feature_10 >  33340.06\n",
            "|   |   |   |   |   |   |   |   |   |   |   |--- truncated branch of depth 6\n",
            "|   |   |   |   |   |   |--- feature_15 >  43138.16\n",
            "|   |   |   |   |   |   |   |--- feature_8 <= 34141.84\n",
            "|   |   |   |   |   |   |   |   |--- class: 13\n",
            "|   |   |   |   |   |   |   |--- feature_8 >  34141.84\n",
            "|   |   |   |   |   |   |   |   |--- class: 19\n",
            "|   |   |   |   |   |--- feature_7 >  37405.14\n",
            "|   |   |   |   |   |   |--- feature_12 <= 44844.54\n",
            "|   |   |   |   |   |   |   |--- feature_13 <= 41230.58\n",
            "|   |   |   |   |   |   |   |   |--- feature_18 <= 34124.18\n",
            "|   |   |   |   |   |   |   |   |   |--- class: 16\n",
            "|   |   |   |   |   |   |   |   |--- feature_18 >  34124.18\n",
            "|   |   |   |   |   |   |   |   |   |--- class: 19\n",
            "|   |   |   |   |   |   |   |--- feature_13 >  41230.58\n",
            "|   |   |   |   |   |   |   |   |--- feature_4 <= 39692.90\n",
            "|   |   |   |   |   |   |   |   |   |--- class: 16\n",
            "|   |   |   |   |   |   |   |   |--- feature_4 >  39692.90\n",
            "|   |   |   |   |   |   |   |   |   |--- feature_19 <= 45539.02\n",
            "|   |   |   |   |   |   |   |   |   |   |--- class: 18\n",
            "|   |   |   |   |   |   |   |   |   |--- feature_19 >  45539.02\n",
            "|   |   |   |   |   |   |   |   |   |   |--- class: 16\n",
            "|   |   |   |   |   |   |--- feature_12 >  44844.54\n",
            "|   |   |   |   |   |   |   |--- class: 19\n",
            "|   |   |   |   |--- feature_8 >  35824.14\n",
            "|   |   |   |   |   |--- feature_4 <= 31968.99\n",
            "|   |   |   |   |   |   |--- feature_15 <= 37394.87\n",
            "|   |   |   |   |   |   |   |--- feature_13 <= 32501.90\n",
            "|   |   |   |   |   |   |   |   |--- class: 12\n",
            "|   |   |   |   |   |   |   |--- feature_13 >  32501.90\n",
            "|   |   |   |   |   |   |   |   |--- feature_9 <= 35525.14\n",
            "|   |   |   |   |   |   |   |   |   |--- feature_12 <= 34535.43\n",
            "|   |   |   |   |   |   |   |   |   |   |--- class: 18\n",
            "|   |   |   |   |   |   |   |   |   |--- feature_12 >  34535.43\n",
            "|   |   |   |   |   |   |   |   |   |   |--- feature_18 <= 32804.93\n",
            "|   |   |   |   |   |   |   |   |   |   |   |--- class: 0\n",
            "|   |   |   |   |   |   |   |   |   |   |--- feature_18 >  32804.93\n",
            "|   |   |   |   |   |   |   |   |   |   |   |--- truncated branch of depth 3\n",
            "|   |   |   |   |   |   |   |   |--- feature_9 >  35525.14\n",
            "|   |   |   |   |   |   |   |   |   |--- class: 19\n",
            "|   |   |   |   |   |   |--- feature_15 >  37394.87\n",
            "|   |   |   |   |   |   |   |--- feature_7 <= 39693.30\n",
            "|   |   |   |   |   |   |   |   |--- feature_1 <= 30745.71\n",
            "|   |   |   |   |   |   |   |   |   |--- feature_18 <= 40520.38\n",
            "|   |   |   |   |   |   |   |   |   |   |--- feature_5 <= 32604.84\n",
            "|   |   |   |   |   |   |   |   |   |   |   |--- truncated branch of depth 3\n",
            "|   |   |   |   |   |   |   |   |   |   |--- feature_5 >  32604.84\n",
            "|   |   |   |   |   |   |   |   |   |   |   |--- class: 4\n",
            "|   |   |   |   |   |   |   |   |   |--- feature_18 >  40520.38\n",
            "|   |   |   |   |   |   |   |   |   |   |--- class: 9\n",
            "|   |   |   |   |   |   |   |   |--- feature_1 >  30745.71\n",
            "|   |   |   |   |   |   |   |   |   |--- feature_3 <= 33976.24\n",
            "|   |   |   |   |   |   |   |   |   |   |--- class: 6\n",
            "|   |   |   |   |   |   |   |   |   |--- feature_3 >  33976.24\n",
            "|   |   |   |   |   |   |   |   |   |   |--- class: 4\n",
            "|   |   |   |   |   |   |   |--- feature_7 >  39693.30\n",
            "|   |   |   |   |   |   |   |   |--- class: 4\n",
            "|   |   |   |   |   |--- feature_4 >  31968.99\n",
            "|   |   |   |   |   |   |--- feature_17 <= 41200.46\n",
            "|   |   |   |   |   |   |   |--- feature_19 <= 38984.77\n",
            "|   |   |   |   |   |   |   |   |--- feature_10 <= 33005.32\n",
            "|   |   |   |   |   |   |   |   |   |--- feature_6 <= 34745.43\n",
            "|   |   |   |   |   |   |   |   |   |   |--- feature_12 <= 34361.97\n",
            "|   |   |   |   |   |   |   |   |   |   |   |--- truncated branch of depth 2\n",
            "|   |   |   |   |   |   |   |   |   |   |--- feature_12 >  34361.97\n",
            "|   |   |   |   |   |   |   |   |   |   |   |--- class: 14\n",
            "|   |   |   |   |   |   |   |   |   |--- feature_6 >  34745.43\n",
            "|   |   |   |   |   |   |   |   |   |   |--- class: 10\n",
            "|   |   |   |   |   |   |   |   |--- feature_10 >  33005.32\n",
            "|   |   |   |   |   |   |   |   |   |--- feature_18 <= 37397.09\n",
            "|   |   |   |   |   |   |   |   |   |   |--- feature_1 <= 35697.56\n",
            "|   |   |   |   |   |   |   |   |   |   |   |--- truncated branch of depth 3\n",
            "|   |   |   |   |   |   |   |   |   |   |--- feature_1 >  35697.56\n",
            "|   |   |   |   |   |   |   |   |   |   |   |--- class: 16\n",
            "|   |   |   |   |   |   |   |   |   |--- feature_18 >  37397.09\n",
            "|   |   |   |   |   |   |   |   |   |   |--- class: 19\n",
            "|   |   |   |   |   |   |   |--- feature_19 >  38984.77\n",
            "|   |   |   |   |   |   |   |   |--- feature_14 <= 37132.32\n",
            "|   |   |   |   |   |   |   |   |   |--- feature_12 <= 37021.04\n",
            "|   |   |   |   |   |   |   |   |   |   |--- class: 2\n",
            "|   |   |   |   |   |   |   |   |   |--- feature_12 >  37021.04\n",
            "|   |   |   |   |   |   |   |   |   |   |--- class: 17\n",
            "|   |   |   |   |   |   |   |   |--- feature_14 >  37132.32\n",
            "|   |   |   |   |   |   |   |   |   |--- feature_15 <= 38432.75\n",
            "|   |   |   |   |   |   |   |   |   |   |--- class: 15\n",
            "|   |   |   |   |   |   |   |   |   |--- feature_15 >  38432.75\n",
            "|   |   |   |   |   |   |   |   |   |   |--- feature_16 <= 40025.63\n",
            "|   |   |   |   |   |   |   |   |   |   |   |--- truncated branch of depth 5\n",
            "|   |   |   |   |   |   |   |   |   |   |--- feature_16 >  40025.63\n",
            "|   |   |   |   |   |   |   |   |   |   |   |--- truncated branch of depth 2\n",
            "|   |   |   |   |   |   |--- feature_17 >  41200.46\n",
            "|   |   |   |   |   |   |   |--- feature_0 <= 36339.13\n",
            "|   |   |   |   |   |   |   |   |--- feature_10 <= 38550.12\n",
            "|   |   |   |   |   |   |   |   |   |--- feature_12 <= 38199.67\n",
            "|   |   |   |   |   |   |   |   |   |   |--- feature_13 <= 40259.73\n",
            "|   |   |   |   |   |   |   |   |   |   |   |--- truncated branch of depth 2\n",
            "|   |   |   |   |   |   |   |   |   |   |--- feature_13 >  40259.73\n",
            "|   |   |   |   |   |   |   |   |   |   |   |--- truncated branch of depth 4\n",
            "|   |   |   |   |   |   |   |   |   |--- feature_12 >  38199.67\n",
            "|   |   |   |   |   |   |   |   |   |   |--- feature_4 <= 36595.59\n",
            "|   |   |   |   |   |   |   |   |   |   |   |--- truncated branch of depth 8\n",
            "|   |   |   |   |   |   |   |   |   |   |--- feature_4 >  36595.59\n",
            "|   |   |   |   |   |   |   |   |   |   |   |--- truncated branch of depth 3\n",
            "|   |   |   |   |   |   |   |   |--- feature_10 >  38550.12\n",
            "|   |   |   |   |   |   |   |   |   |--- feature_15 <= 44135.32\n",
            "|   |   |   |   |   |   |   |   |   |   |--- class: 2\n",
            "|   |   |   |   |   |   |   |   |   |--- feature_15 >  44135.32\n",
            "|   |   |   |   |   |   |   |   |   |   |--- class: 5\n",
            "|   |   |   |   |   |   |   |--- feature_0 >  36339.13\n",
            "|   |   |   |   |   |   |   |   |--- feature_5 <= 37735.45\n",
            "|   |   |   |   |   |   |   |   |   |--- class: 10\n",
            "|   |   |   |   |   |   |   |   |--- feature_5 >  37735.45\n",
            "|   |   |   |   |   |   |   |   |   |--- feature_1 <= 38097.37\n",
            "|   |   |   |   |   |   |   |   |   |   |--- feature_7 <= 41315.51\n",
            "|   |   |   |   |   |   |   |   |   |   |   |--- class: 12\n",
            "|   |   |   |   |   |   |   |   |   |   |--- feature_7 >  41315.51\n",
            "|   |   |   |   |   |   |   |   |   |   |   |--- truncated branch of depth 3\n",
            "|   |   |   |   |   |   |   |   |   |--- feature_1 >  38097.37\n",
            "|   |   |   |   |   |   |   |   |   |   |--- feature_8 <= 42887.10\n",
            "|   |   |   |   |   |   |   |   |   |   |   |--- truncated branch of depth 8\n",
            "|   |   |   |   |   |   |   |   |   |   |--- feature_8 >  42887.10\n",
            "|   |   |   |   |   |   |   |   |   |   |   |--- truncated branch of depth 5\n",
            "\n"
          ]
        }
      ]
    },
    {
      "cell_type": "markdown",
      "metadata": {
        "id": "pZtc1O5_bpo_"
      },
      "source": [
        "# Try Inference Process"
      ]
    },
    {
      "cell_type": "code",
      "metadata": {
        "colab": {
          "base_uri": "https://localhost:8080/"
        },
        "id": "NrjcQrXT2Wnk",
        "outputId": "131db4b1-8b3e-4b47-885d-99fe027cbcd9"
      },
      "source": [
        "y, sr = librosa.load('/content/WhatsApp Audio 2021-10-24 at 05.48.42.mp4')\n",
        "mfcc = librosa.feature.mfcc(y, sr)\n",
        "\n",
        "distance = np.ones((1, len(ref_mfccs)))\n",
        "for i, m in enumerate(ref_mfccs):\n",
        "  dist, _, _, _ = dtw(mfcc.T, m, dist=lambda x, y: np.linalg.norm(x - y, ord=1))\n",
        "  distance[0,i] = dist\n",
        "print(distance)"
      ],
      "execution_count": null,
      "outputs": [
        {
          "output_type": "stream",
          "name": "stderr",
          "text": [
            "/usr/local/lib/python3.7/dist-packages/librosa/core/audio.py:165: UserWarning: PySoundFile failed. Trying audioread instead.\n",
            "  warnings.warn(\"PySoundFile failed. Trying audioread instead.\")\n"
          ]
        },
        {
          "output_type": "stream",
          "name": "stdout",
          "text": [
            "[[3039678.54110718 3057077.17445374 3023657.909729   2741626.15049744\n",
            "  2761430.13693237 2654616.60328674 2800055.79025269 2697159.85137939\n",
            "  2814773.56089783 2747800.74291992 2667180.29452515 2832121.48321533\n",
            "  2874660.91542053 2704730.3397522  2791566.66305542 2584291.67098999\n",
            "  2813502.16854858 2581804.85954285 2842036.14349365 2727106.94801331]]\n"
          ]
        }
      ]
    },
    {
      "cell_type": "code",
      "metadata": {
        "colab": {
          "base_uri": "https://localhost:8080/"
        },
        "id": "8Xg4A-gqvfnt",
        "outputId": "4090e247-c01a-4944-b3b5-5d8665659277"
      },
      "source": [
        "import joblib\n",
        "\n",
        "loaded_model = joblib.load('finalized_model.pkl')\n",
        "pre = loaded_model.predict(distance)[0]\n",
        "print(label[int(pre)])"
      ],
      "execution_count": null,
      "outputs": [
        {
          "output_type": "stream",
          "name": "stdout",
          "text": [
            "Rasuulu\n"
          ]
        }
      ]
    },
    {
      "cell_type": "markdown",
      "metadata": {
        "id": "GHDIU-ONbiPA"
      },
      "source": [
        "# Evaluation Using Test Data"
      ]
    },
    {
      "cell_type": "markdown",
      "metadata": {
        "id": "Oi7nNG-E8bpP"
      },
      "source": [
        "## Normalize (optional)"
      ]
    },
    {
      "cell_type": "code",
      "metadata": {
        "colab": {
          "base_uri": "https://localhost:8080/"
        },
        "id": "mK2RuvI10_X_",
        "outputId": "7194c9b5-1f42-4e02-b73a-ad65f988a751"
      },
      "source": [
        "for test_audio in os.listdir(test_data):\n",
        "  file = os.path.join(test_data, test_audio)\n",
        "  pynormalize.process_files([file], target_dbfs=target_dbfs, directory='NORMALIZED TEST')"
      ],
      "execution_count": null,
      "outputs": [
        {
          "output_type": "stream",
          "name": "stderr",
          "text": [
            "(1 of 1) Processing file : \"1_Qoola.wav\"\n",
            "(1 of 1) Processing file : \"1_Kaana.wav\"\n",
            "(1 of 1) Processing file : \"1_Walaa.wav\"\n",
            "(1 of 1) Processing file : \"2_Qoola.wav\"\n",
            "(1 of 1) Processing file : \"3_Qoola.wav\"\n",
            "(1 of 1) Processing file : \"3_Kaana.wav\"\n",
            "(1 of 1) Processing file : \"2_Kaana.wav\"\n",
            "(1 of 1) Processing file : \"2_Bimaa.wav\"\n",
            "(1 of 1) Processing file : \"1_Bimaa.wav\"\n",
            "(1 of 1) Processing file : \"2_Walaa.wav\"\n",
            "(1 of 1) Processing file : \"3_Walaa.wav\"\n",
            "(1 of 1) Processing file : \"3_Bimaa.wav\"\n",
            "(1 of 1) Processing file : \"1_Bihaa.wav\"\n",
            "(1 of 1) Processing file : \"3_Bihaa.wav\"\n",
            "(1 of 1) Processing file : \"2_Bihaa.wav\"\n",
            "(1 of 1) Processing file : \"1_Tsaani.wav\"\n",
            "(1 of 1) Processing file : \"2_Tsaani.wav\"\n",
            "(1 of 1) Processing file : \"2_Idzaa.wav\"\n",
            "(1 of 1) Processing file : \"3_Tsaani.wav\"\n",
            "(1 of 1) Processing file : \"1_Idzaa.wav\"\n",
            "(1 of 1) Processing file : \"3_Idzaa.wav\"\n",
            "(1 of 1) Processing file : \"1_Fii.wav\"\n",
            "(1 of 1) Processing file : \"2_Fii.wav\"\n",
            "(1 of 1) Processing file : \"1_Bii.wav\"\n",
            "(1 of 1) Processing file : \"3_Fii.wav\"\n",
            "(1 of 1) Processing file : \"2_Bii.wav\"\n",
            "(1 of 1) Processing file : \"3_Bii.wav\"\n",
            "(1 of 1) Processing file : \"1_Qiila.wav\"\n",
            "(1 of 1) Processing file : \"2_Qiila.wav\"\n",
            "(1 of 1) Processing file : \"3_Qiila.wav\"\n",
            "(1 of 1) Processing file : \"1_Sabiila.wav\"\n",
            "(1 of 1) Processing file : \"2_Sabiila.wav\"\n",
            "(1 of 1) Processing file : \"3_Sabiila.wav\"\n",
            "(1 of 1) Processing file : \"2_Qoliila.wav\"\n",
            "(1 of 1) Processing file : \"1_Qoliila.wav\"\n",
            "(1 of 1) Processing file : \"3_Qoliila.wav\"\n",
            "(1 of 1) Processing file : \"1_Jamiia.wav\"\n",
            "(1 of 1) Processing file : \"2_Jamiia.wav\"\n",
            "(1 of 1) Processing file : \"3_Jamiia.wav\"\n",
            "(1 of 1) Processing file : \"1_Fiihi.wav\"\n",
            "(1 of 1) Processing file : \"3_Fiihi.wav\"\n",
            "(1 of 1) Processing file : \"2_Fiihi.wav\"\n",
            "(1 of 1) Processing file : \"1_Yaquulu.wav\"\n",
            "(1 of 1) Processing file : \"2_Yaquulu.wav\"\n",
            "(1 of 1) Processing file : \"3_Yaquulu.wav\"\n",
            "(1 of 1) Processing file : \"1_Rasuulu.wav\"\n",
            "(1 of 1) Processing file : \"2_Rasuulu.wav\"\n",
            "(1 of 1) Processing file : \"3_Rasuulu.wav\"\n",
            "(1 of 1) Processing file : \"1_Wujuuhu.wav\"\n",
            "(1 of 1) Processing file : \"2_Wujuuhu.wav\"\n",
            "(1 of 1) Processing file : \"3_Wujuuhu.wav\"\n",
            "(1 of 1) Processing file : \"1_Yadzuuqu.wav\"\n",
            "(1 of 1) Processing file : \"2_Yadzuuqu.wav\"\n",
            "(1 of 1) Processing file : \"3_Yadzuuqu.wav\"\n",
            "(1 of 1) Processing file : \"1_Quluubu.wav\"\n",
            "(1 of 1) Processing file : \"2_Quluubu.wav\"\n",
            "(1 of 1) Processing file : \"1_Dzunuubi.wav\"\n",
            "(1 of 1) Processing file : \"3_Quluubu.wav\"\n",
            "(1 of 1) Processing file : \"2_Dzunuubi.wav\"\n",
            "(1 of 1) Processing file : \"3_Dzunuubi.wav\"\n"
          ]
        }
      ]
    },
    {
      "cell_type": "markdown",
      "metadata": {
        "id": "LvVV3ukyn6aO"
      },
      "source": [
        "## Load Test Data, Get The MFCC Feature of It and Calculate The DTW's "
      ]
    },
    {
      "cell_type": "code",
      "metadata": {
        "id": "tPHTzwrJsgPY"
      },
      "source": [
        "test_dtws = []\n",
        "test_labels = []\n",
        "for test_audio in os.listdir(test_data):\n",
        "  for i, l in enumerate(label):\n",
        "    if l+'.wav' in test_audio:\n",
        "      test_labels.append(i)\n",
        "\n",
        "  y2, sr2 = librosa.load(os.path.join(test_data, test_audio))\n",
        "  mfcc2 = librosa.feature.mfcc(y2, sr2)\n",
        "\n",
        "  distance = np.ones((1, len(ref_mfccs)))\n",
        "  for i, m in enumerate(ref_mfccs):\n",
        "    dist, _, _, _ = dtw(mfcc.T, m, dist=lambda x, y: np.linalg.norm(x - y, ord=1))\n",
        "    distance[0,i] = dist\n",
        "  test_dtws.append(distance[0])\n",
        "test_dtws = np.float64(test_dtws)"
      ],
      "execution_count": 145,
      "outputs": []
    },
    {
      "cell_type": "code",
      "source": [
        "test_dtws"
      ],
      "metadata": {
        "colab": {
          "base_uri": "https://localhost:8080/"
        },
        "id": "TfFKHB0v-fUk",
        "outputId": "a64dcf1c-9693-464d-8843-1041286d0cbc"
      },
      "execution_count": 146,
      "outputs": [
        {
          "output_type": "execute_result",
          "data": {
            "text/plain": [
              "array([[    0.        , 13136.72756195, 11666.50363159, ...,\n",
              "        24557.22701263, 23176.25865173, 24665.88248444],\n",
              "       [    0.        , 13136.72756195, 11666.50363159, ...,\n",
              "        24557.22701263, 23176.25865173, 24665.88248444],\n",
              "       [    0.        , 13136.72756195, 11666.50363159, ...,\n",
              "        24557.22701263, 23176.25865173, 24665.88248444],\n",
              "       ...,\n",
              "       [    0.        , 13136.72756195, 11666.50363159, ...,\n",
              "        24557.22701263, 23176.25865173, 24665.88248444],\n",
              "       [    0.        , 13136.72756195, 11666.50363159, ...,\n",
              "        24557.22701263, 23176.25865173, 24665.88248444],\n",
              "       [    0.        , 13136.72756195, 11666.50363159, ...,\n",
              "        24557.22701263, 23176.25865173, 24665.88248444]])"
            ]
          },
          "metadata": {},
          "execution_count": 146
        }
      ]
    },
    {
      "cell_type": "code",
      "metadata": {
        "colab": {
          "base_uri": "https://localhost:8080/"
        },
        "id": "GvpzttD9uiWQ",
        "outputId": "5665a9f9-18c1-4fb7-b698-9fc27d06e973"
      },
      "source": [
        "test_dtws = np.array(test_dtws)\n",
        "test_labels = np.array(test_labels)\n",
        "\n",
        "print(test_dtws.shape)\n",
        "print(test_labels.shape)"
      ],
      "execution_count": 149,
      "outputs": [
        {
          "output_type": "stream",
          "name": "stdout",
          "text": [
            "(60, 20)\n",
            "(60,)\n"
          ]
        }
      ]
    },
    {
      "cell_type": "markdown",
      "metadata": {
        "id": "MgtnLKTAsp4P"
      },
      "source": [
        "## Calculate Recall of Prediction Result on Test Data"
      ]
    },
    {
      "cell_type": "code",
      "metadata": {
        "id": "QeWhM2-ggn80",
        "colab": {
          "base_uri": "https://localhost:8080/"
        },
        "outputId": "d6fcb37e-48e8-4ca3-dd5f-de777847e585"
      },
      "source": [
        "y_predict = result.best_estimator_.predict(X_test)\n",
        "for iy, y in enumerate(y_test):\n",
        "  print('True Label: '+label[y]+' Predicted Label: '+label[y_predict[iy]])\n",
        "  if label[y]==label[y_predict[iy]]:\n",
        "    print('Status: True')\n",
        "    TP+=1\n",
        "  elif label[y]!=label[y_predict[iy]]:\n",
        "    print('Status: False')\n",
        "    FN+=1"
      ],
      "execution_count": 188,
      "outputs": [
        {
          "output_type": "stream",
          "name": "stdout",
          "text": [
            "True Label: Walaa Predicted Label: Walaa\n",
            "Status: True\n",
            "True Label: Qiila Predicted Label: Sabiila\n",
            "Status: False\n",
            "True Label: Qoliila Predicted Label: Sabiila\n",
            "Status: False\n",
            "True Label: Bimaa Predicted Label: Bimaa\n",
            "Status: True\n",
            "True Label: Quluubu Predicted Label: Rasuulu\n",
            "Status: False\n",
            "True Label: Kaana Predicted Label: Kaana\n",
            "Status: True\n",
            "True Label: Jamiia Predicted Label: Jamiia\n",
            "Status: True\n",
            "True Label: Bihaa Predicted Label: Bihaa\n",
            "Status: True\n",
            "True Label: Rasuulu Predicted Label: Rasuulu\n",
            "Status: True\n",
            "True Label: Walaa Predicted Label: Walaa\n",
            "Status: True\n",
            "True Label: Yadzuuqu Predicted Label: Rasuulu\n",
            "Status: False\n",
            "True Label: Dzunuubi Predicted Label: Quluubu\n",
            "Status: False\n",
            "True Label: Qiila Predicted Label: Bii\n",
            "Status: False\n",
            "True Label: Jamiia Predicted Label: Jamiia\n",
            "Status: True\n",
            "True Label: Walaa Predicted Label: Walaa\n",
            "Status: True\n",
            "True Label: Yaquulu Predicted Label: Yaquulu\n",
            "Status: True\n",
            "True Label: Qoliila Predicted Label: Qoliila\n",
            "Status: True\n",
            "True Label: Bihaa Predicted Label: Qiila\n",
            "Status: False\n",
            "True Label: Yadzuuqu Predicted Label: Yadzuuqu\n",
            "Status: True\n",
            "True Label: Bimaa Predicted Label: Bimaa\n",
            "Status: True\n",
            "True Label: Bimaa Predicted Label: Bimaa\n",
            "Status: True\n",
            "True Label: Yadzuuqu Predicted Label: Yadzuuqu\n",
            "Status: True\n",
            "True Label: Kaana Predicted Label: Kaana\n",
            "Status: True\n",
            "True Label: Rasuulu Predicted Label: Yadzuuqu\n",
            "Status: False\n",
            "True Label: Yadzuuqu Predicted Label: Rasuulu\n",
            "Status: False\n",
            "True Label: Yadzuuqu Predicted Label: Yadzuuqu\n",
            "Status: True\n",
            "True Label: Quluubu Predicted Label: Quluubu\n",
            "Status: True\n",
            "True Label: Bimaa Predicted Label: Bimaa\n",
            "Status: True\n",
            "True Label: Bii Predicted Label: Bii\n",
            "Status: True\n",
            "True Label: Wujuuhu Predicted Label: Wujuuhu\n",
            "Status: True\n",
            "True Label: Fii Predicted Label: Bii\n",
            "Status: False\n",
            "True Label: Sabiila Predicted Label: Sabiila\n",
            "Status: True\n",
            "True Label: Dzunuubi Predicted Label: Dzunuubi\n",
            "Status: True\n",
            "True Label: Wujuuhu Predicted Label: Dzunuubi\n",
            "Status: False\n",
            "True Label: Walaa Predicted Label: Walaa\n",
            "Status: True\n",
            "True Label: Tsaani Predicted Label: Rasuulu\n",
            "Status: False\n",
            "True Label: Dzunuubi Predicted Label: Dzunuubi\n",
            "Status: True\n",
            "True Label: Wujuuhu Predicted Label: Wujuuhu\n",
            "Status: True\n",
            "True Label: Yaquulu Predicted Label: Yaquulu\n",
            "Status: True\n",
            "True Label: Kaana Predicted Label: Kaana\n",
            "Status: True\n",
            "True Label: Yadzuuqu Predicted Label: Yadzuuqu\n",
            "Status: True\n",
            "True Label: Kaana Predicted Label: Kaana\n",
            "Status: True\n",
            "True Label: Idzaa Predicted Label: Bihaa\n",
            "Status: False\n",
            "True Label: Fii Predicted Label: Tsaani\n",
            "Status: False\n",
            "True Label: Bimaa Predicted Label: Bimaa\n",
            "Status: True\n",
            "True Label: Rasuulu Predicted Label: Qiila\n",
            "Status: False\n",
            "True Label: Bihaa Predicted Label: Idzaa\n",
            "Status: False\n",
            "True Label: Fiihi Predicted Label: Fiihi\n",
            "Status: True\n",
            "True Label: Fii Predicted Label: Fii\n",
            "Status: True\n",
            "True Label: Fii Predicted Label: Fiihi\n",
            "Status: False\n",
            "True Label: Qoliila Predicted Label: Sabiila\n",
            "Status: False\n",
            "True Label: Fiihi Predicted Label: Fii\n",
            "Status: False\n",
            "True Label: Kaana Predicted Label: Kaana\n",
            "Status: True\n",
            "True Label: Dzunuubi Predicted Label: Yadzuuqu\n",
            "Status: False\n",
            "True Label: Fii Predicted Label: Fii\n",
            "Status: True\n",
            "True Label: Rasuulu Predicted Label: Rasuulu\n",
            "Status: True\n",
            "True Label: Dzunuubi Predicted Label: Yadzuuqu\n",
            "Status: False\n",
            "True Label: Qoola Predicted Label: Yadzuuqu\n",
            "Status: False\n",
            "True Label: Tsaani Predicted Label: Yadzuuqu\n",
            "Status: False\n",
            "True Label: Fii Predicted Label: Fii\n",
            "Status: True\n",
            "True Label: Wujuuhu Predicted Label: Quluubu\n",
            "Status: False\n",
            "True Label: Bimaa Predicted Label: Yadzuuqu\n",
            "Status: False\n",
            "True Label: Rasuulu Predicted Label: Rasuulu\n",
            "Status: True\n",
            "True Label: Dzunuubi Predicted Label: Quluubu\n",
            "Status: False\n",
            "True Label: Bimaa Predicted Label: Bimaa\n",
            "Status: True\n",
            "True Label: Qoliila Predicted Label: Qoliila\n",
            "Status: True\n",
            "True Label: Jamiia Predicted Label: Jamiia\n",
            "Status: True\n",
            "True Label: Qoliila Predicted Label: Qoliila\n",
            "Status: True\n",
            "True Label: Qoola Predicted Label: Qoola\n",
            "Status: True\n",
            "True Label: Tsaani Predicted Label: Tsaani\n",
            "Status: True\n",
            "True Label: Tsaani Predicted Label: Tsaani\n",
            "Status: True\n",
            "True Label: Qiila Predicted Label: Qiila\n",
            "Status: True\n",
            "True Label: Bihaa Predicted Label: Bihaa\n",
            "Status: True\n",
            "True Label: Fii Predicted Label: Fiihi\n",
            "Status: False\n",
            "True Label: Qoola Predicted Label: Qoola\n",
            "Status: True\n",
            "True Label: Kaana Predicted Label: Kaana\n",
            "Status: True\n",
            "True Label: Bii Predicted Label: Bii\n",
            "Status: True\n",
            "True Label: Fii Predicted Label: Qiila\n",
            "Status: False\n",
            "True Label: Bii Predicted Label: Bii\n",
            "Status: True\n",
            "True Label: Fiihi Predicted Label: Fiihi\n",
            "Status: True\n",
            "True Label: Idzaa Predicted Label: Idzaa\n",
            "Status: True\n",
            "True Label: Yaquulu Predicted Label: Yaquulu\n",
            "Status: True\n",
            "True Label: Qiila Predicted Label: Kaana\n",
            "Status: False\n",
            "True Label: Yadzuuqu Predicted Label: Yadzuuqu\n",
            "Status: True\n",
            "True Label: Quluubu Predicted Label: Quluubu\n",
            "Status: True\n",
            "True Label: Quluubu Predicted Label: Quluubu\n",
            "Status: True\n",
            "True Label: Idzaa Predicted Label: Idzaa\n",
            "Status: True\n",
            "True Label: Bihaa Predicted Label: Idzaa\n",
            "Status: False\n",
            "True Label: Bihaa Predicted Label: Idzaa\n",
            "Status: False\n",
            "True Label: Yaquulu Predicted Label: Yaquulu\n",
            "Status: True\n",
            "True Label: Qoliila Predicted Label: Qoliila\n",
            "Status: True\n",
            "True Label: Qoola Predicted Label: Qoola\n",
            "Status: True\n",
            "True Label: Qiila Predicted Label: Qiila\n",
            "Status: True\n",
            "True Label: Rasuulu Predicted Label: Rasuulu\n",
            "Status: True\n",
            "True Label: Walaa Predicted Label: Bimaa\n",
            "Status: False\n",
            "True Label: Yadzuuqu Predicted Label: Yadzuuqu\n",
            "Status: True\n",
            "True Label: Quluubu Predicted Label: Wujuuhu\n",
            "Status: False\n",
            "True Label: Yaquulu Predicted Label: Yaquulu\n",
            "Status: True\n",
            "True Label: Yadzuuqu Predicted Label: Yadzuuqu\n",
            "Status: True\n",
            "True Label: Walaa Predicted Label: Walaa\n",
            "Status: True\n",
            "True Label: Fii Predicted Label: Fiihi\n",
            "Status: False\n",
            "True Label: Sabiila Predicted Label: Sabiila\n",
            "Status: True\n",
            "True Label: Yaquulu Predicted Label: Yaquulu\n",
            "Status: True\n",
            "True Label: Dzunuubi Predicted Label: Quluubu\n",
            "Status: False\n",
            "True Label: Qiila Predicted Label: Qoliila\n",
            "Status: False\n",
            "True Label: Idzaa Predicted Label: Idzaa\n",
            "Status: True\n",
            "True Label: Qoola Predicted Label: Quluubu\n",
            "Status: False\n",
            "True Label: Bimaa Predicted Label: Bihaa\n",
            "Status: False\n",
            "True Label: Yaquulu Predicted Label: Yaquulu\n",
            "Status: True\n",
            "True Label: Qiila Predicted Label: Qiila\n",
            "Status: True\n",
            "True Label: Quluubu Predicted Label: Quluubu\n",
            "Status: True\n",
            "True Label: Jamiia Predicted Label: Jamiia\n",
            "Status: True\n",
            "True Label: Sabiila Predicted Label: Sabiila\n",
            "Status: True\n",
            "True Label: Wujuuhu Predicted Label: Wujuuhu\n",
            "Status: True\n",
            "True Label: Bii Predicted Label: Bii\n",
            "Status: True\n",
            "True Label: Qoola Predicted Label: Qoola\n",
            "Status: True\n",
            "True Label: Fiihi Predicted Label: Fiihi\n",
            "Status: True\n",
            "True Label: Jamiia Predicted Label: Qoliila\n",
            "Status: False\n",
            "True Label: Bihaa Predicted Label: Wujuuhu\n",
            "Status: False\n",
            "True Label: Bihaa Predicted Label: Bihaa\n",
            "Status: True\n",
            "True Label: Fii Predicted Label: Fii\n",
            "Status: True\n",
            "True Label: Bihaa Predicted Label: Bihaa\n",
            "Status: True\n",
            "True Label: Tsaani Predicted Label: Tsaani\n",
            "Status: True\n",
            "True Label: Bihaa Predicted Label: Bimaa\n",
            "Status: False\n",
            "True Label: Bii Predicted Label: Bii\n",
            "Status: True\n",
            "True Label: Yadzuuqu Predicted Label: Quluubu\n",
            "Status: False\n",
            "True Label: Yadzuuqu Predicted Label: Yadzuuqu\n",
            "Status: True\n",
            "True Label: Kaana Predicted Label: Kaana\n",
            "Status: True\n",
            "True Label: Qoola Predicted Label: Qoola\n",
            "Status: True\n",
            "True Label: Walaa Predicted Label: Walaa\n",
            "Status: True\n",
            "True Label: Fiihi Predicted Label: Fiihi\n",
            "Status: True\n",
            "True Label: Bimaa Predicted Label: Bimaa\n",
            "Status: True\n",
            "True Label: Qiila Predicted Label: Qoliila\n",
            "Status: False\n",
            "True Label: Bimaa Predicted Label: Bimaa\n",
            "Status: True\n",
            "True Label: Fiihi Predicted Label: Fiihi\n",
            "Status: True\n",
            "True Label: Yadzuuqu Predicted Label: Wujuuhu\n",
            "Status: False\n",
            "True Label: Qiila Predicted Label: Qiila\n",
            "Status: True\n",
            "True Label: Yaquulu Predicted Label: Yaquulu\n",
            "Status: True\n",
            "True Label: Bihaa Predicted Label: Wujuuhu\n",
            "Status: False\n",
            "True Label: Idzaa Predicted Label: Bihaa\n",
            "Status: False\n",
            "True Label: Fiihi Predicted Label: Fiihi\n",
            "Status: True\n",
            "True Label: Yadzuuqu Predicted Label: Yadzuuqu\n",
            "Status: True\n",
            "True Label: Jamiia Predicted Label: Bihaa\n",
            "Status: False\n",
            "True Label: Walaa Predicted Label: Walaa\n",
            "Status: True\n",
            "True Label: Rasuulu Predicted Label: Rasuulu\n",
            "Status: True\n",
            "True Label: Qoola Predicted Label: Qoola\n",
            "Status: True\n",
            "True Label: Bimaa Predicted Label: Wujuuhu\n",
            "Status: False\n",
            "True Label: Jamiia Predicted Label: Jamiia\n",
            "Status: True\n",
            "True Label: Wujuuhu Predicted Label: Wujuuhu\n",
            "Status: True\n",
            "True Label: Dzunuubi Predicted Label: Dzunuubi\n",
            "Status: True\n",
            "True Label: Bihaa Predicted Label: Bihaa\n",
            "Status: True\n",
            "True Label: Fii Predicted Label: Bii\n",
            "Status: False\n",
            "True Label: Idzaa Predicted Label: Idzaa\n",
            "Status: True\n",
            "True Label: Bihaa Predicted Label: Bihaa\n",
            "Status: True\n",
            "True Label: Sabiila Predicted Label: Qoliila\n",
            "Status: False\n",
            "True Label: Quluubu Predicted Label: Quluubu\n",
            "Status: True\n",
            "True Label: Qoliila Predicted Label: Sabiila\n",
            "Status: False\n",
            "True Label: Qoola Predicted Label: Kaana\n",
            "Status: False\n",
            "True Label: Idzaa Predicted Label: Idzaa\n",
            "Status: True\n",
            "True Label: Idzaa Predicted Label: Kaana\n",
            "Status: False\n",
            "True Label: Kaana Predicted Label: Tsaani\n",
            "Status: False\n",
            "True Label: Yadzuuqu Predicted Label: Yadzuuqu\n",
            "Status: True\n",
            "True Label: Qiila Predicted Label: Kaana\n",
            "Status: False\n",
            "True Label: Bimaa Predicted Label: Idzaa\n",
            "Status: False\n",
            "True Label: Kaana Predicted Label: Walaa\n",
            "Status: False\n",
            "True Label: Bimaa Predicted Label: Bimaa\n",
            "Status: True\n",
            "True Label: Jamiia Predicted Label: Jamiia\n",
            "Status: True\n",
            "True Label: Bihaa Predicted Label: Idzaa\n",
            "Status: False\n",
            "True Label: Wujuuhu Predicted Label: Wujuuhu\n",
            "Status: True\n",
            "True Label: Rasuulu Predicted Label: Yadzuuqu\n",
            "Status: False\n",
            "True Label: Qiila Predicted Label: Wujuuhu\n",
            "Status: False\n",
            "True Label: Idzaa Predicted Label: Bii\n",
            "Status: False\n",
            "True Label: Tsaani Predicted Label: Walaa\n",
            "Status: False\n",
            "True Label: Dzunuubi Predicted Label: Dzunuubi\n",
            "Status: True\n",
            "True Label: Walaa Predicted Label: Walaa\n",
            "Status: True\n",
            "True Label: Qoliila Predicted Label: Sabiila\n",
            "Status: False\n",
            "True Label: Dzunuubi Predicted Label: Dzunuubi\n",
            "Status: True\n",
            "True Label: Quluubu Predicted Label: Wujuuhu\n",
            "Status: False\n",
            "True Label: Jamiia Predicted Label: Jamiia\n",
            "Status: True\n",
            "True Label: Kaana Predicted Label: Kaana\n",
            "Status: True\n",
            "True Label: Quluubu Predicted Label: Wujuuhu\n",
            "Status: False\n",
            "True Label: Qiila Predicted Label: Kaana\n",
            "Status: False\n",
            "True Label: Dzunuubi Predicted Label: Dzunuubi\n",
            "Status: True\n",
            "True Label: Yadzuuqu Predicted Label: Rasuulu\n",
            "Status: False\n",
            "True Label: Bii Predicted Label: Qoola\n",
            "Status: False\n",
            "True Label: Bii Predicted Label: Fii\n",
            "Status: False\n",
            "True Label: Quluubu Predicted Label: Quluubu\n",
            "Status: True\n",
            "True Label: Fiihi Predicted Label: Fiihi\n",
            "Status: True\n",
            "True Label: Yadzuuqu Predicted Label: Yaquulu\n",
            "Status: False\n",
            "True Label: Qoliila Predicted Label: Qoliila\n",
            "Status: True\n",
            "True Label: Yaquulu Predicted Label: Yaquulu\n",
            "Status: True\n",
            "True Label: Tsaani Predicted Label: Tsaani\n",
            "Status: True\n",
            "True Label: Fii Predicted Label: Idzaa\n",
            "Status: False\n",
            "True Label: Sabiila Predicted Label: Bimaa\n",
            "Status: False\n",
            "True Label: Qoliila Predicted Label: Qoliila\n",
            "Status: True\n",
            "True Label: Quluubu Predicted Label: Quluubu\n",
            "Status: True\n",
            "True Label: Rasuulu Predicted Label: Yadzuuqu\n",
            "Status: False\n",
            "True Label: Qoliila Predicted Label: Qoliila\n",
            "Status: True\n",
            "True Label: Idzaa Predicted Label: Jamiia\n",
            "Status: False\n",
            "True Label: Idzaa Predicted Label: Idzaa\n",
            "Status: True\n"
          ]
        }
      ]
    },
    {
      "cell_type": "code",
      "source": [
        "from sklearn.metrics import classification_report\n",
        "print(classification_report(y_test, y_predict, target_names=label))"
      ],
      "metadata": {
        "colab": {
          "base_uri": "https://localhost:8080/"
        },
        "id": "X2y37KIY7WIW",
        "outputId": "738b39af-22bb-4a00-f2dc-c54f2a29c229"
      },
      "execution_count": 189,
      "outputs": [
        {
          "output_type": "stream",
          "name": "stdout",
          "text": [
            "              precision    recall  f1-score   support\n",
            "\n",
            "       Qoola       0.86      0.67      0.75         9\n",
            "       Kaana       0.62      0.80      0.70        10\n",
            "       Walaa       0.80      0.89      0.84         9\n",
            "       Bimaa       0.75      0.69      0.72        13\n",
            "       Bihaa       0.60      0.43      0.50        14\n",
            "      Tsaani       0.67      0.57      0.62         7\n",
            "       Idzaa       0.50      0.55      0.52        11\n",
            "         Fii       0.67      0.33      0.44        12\n",
            "         Bii       0.56      0.71      0.63         7\n",
            "       Qiila       0.57      0.33      0.42        12\n",
            "     Sabiila       0.38      0.60      0.46         5\n",
            "     Qoliila       0.64      0.64      0.64        11\n",
            "      Jamiia       0.88      0.78      0.82         9\n",
            "       Fiihi       0.70      0.88      0.78         8\n",
            "     Yaquulu       0.90      1.00      0.95         9\n",
            "     Rasuulu       0.50      0.56      0.53         9\n",
            "     Wujuuhu       0.38      0.71      0.50         7\n",
            "    Yadzuuqu       0.56      0.62      0.59        16\n",
            "     Quluubu       0.54      0.64      0.58        11\n",
            "    Dzunuubi       0.86      0.55      0.67        11\n",
            "\n",
            "    accuracy                           0.63       200\n",
            "   macro avg       0.65      0.65      0.63       200\n",
            "weighted avg       0.65      0.63      0.63       200\n",
            "\n"
          ]
        }
      ]
    },
    {
      "cell_type": "code",
      "source": [
        ""
      ],
      "metadata": {
        "id": "rJ3LMyueCidn"
      },
      "execution_count": null,
      "outputs": []
    }
  ]
}